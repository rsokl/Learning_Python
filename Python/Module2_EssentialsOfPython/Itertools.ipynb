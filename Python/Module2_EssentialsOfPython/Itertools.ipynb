{
 "cells": [
  {
   "cell_type": "markdown",
   "metadata": {},
   "source": [
    "# Python's \"Itertools\"\n",
    "Python has an [itertools module](https://docs.python.org/3/library/itertools.html), which provides a core set of fast, memory-efficient tools for creating iterators. The majority of these functions create generators. We will briefly showcase a few itertools. It is hard to overstate the utility of this module - it is strongly recommended that you take some time to see what it has in store.\n",
    "\n",
    "Actually, there are three functions that belong in itertools, but are so useful that they are included in Python by default, and do not need to be imported:\n",
    "\n",
    "#### `range`\n",
    "generate a sequence of integers in the specified \"range\":\n",
    "```python\n",
    ">>> range(10)\n",
    "# will generate 0.. 1.. 2.. ... 8.. 9\n",
    "```\n",
    "\n",
    "#### `enumerate`\n",
    "\"enumerate\" the items in an iterable:\n",
    "```python\n",
    ">>> enumerate([\"apple\", \"banana\", \"cat\", \"dog\"])\n",
    "# will generate (0, 'apple').. (1, 'banana').. (2, 'cat').. (3, 'dog')]\n",
    "```\n",
    "\n",
    "#### `zip`\n",
    "\"zip\" together the corresponding elements of several iterables into tuples:\n",
    "```python\n",
    ">>> names = [\"Angie\", \"Brian\", \"Cassie\", \"David\"]\n",
    ">>> exam_1_scores = [90, 82, 79, 87]\n",
    ">>> exam_2_scores = [95, 84, 72, 91]\n",
    "\n",
    ">>> zip(names, exam_1_scores, exam_2_scores)\n",
    "# will generate ('Angie', 90, 95).. ('Brian', 82, 84).. ('Cassie', 79, 72).. ('David', 87, 91)]\n",
    "```\n",
    "***\n",
    "The following are some of the many useful tools provided by the `itertools` module:\n",
    "\n",
    "#### `itertools.chain`\n",
    "\"chain\" together multiple iterables, end-to-end:\n",
    "```python\n",
    ">>> from itertools import chain\n",
    ">>> gen_1 = range(0, 5, 2)               # 0.. 2.. 4\n",
    ">>> gen_2 = (i**2 for i in range(3, 6))  # 9.. 16.. 25 \n",
    ">>> iter_3 = [\"moo\", \"cow\"]\n",
    ">>> iter_4 = \"him\"\n",
    "\n",
    ">>>  chain(gen_1, gen_2, iter_3, iter_4)\n",
    "# will generate: 0.. 2.. 4.. 9.. 16.. 25.. 'moo'.. 'cow'.. 'h'.. 'i'.. 'm'\n",
    "```\n",
    "\n",
    "#### `itertools.combinations`\n",
    "Generate all length-n \"combinations\" from an iterable:\n",
    "```python\n",
    ">>> from itertools import combinations\n",
    ">>> combinations([0, 1, 2, 3], 3)  # generate all length-3 combinations from [0, 1, 2, 3]\n",
    "# will generate: (0, 1, 2).. (0, 1, 3).. (0, 2, 3).. (1, 2, 3)\n",
    "```"
   ]
  }
 ],
 "metadata": {
  "anaconda-cloud": {},
  "kernelspec": {
   "display_name": "Python 3",
   "language": "python",
   "name": "python3"
  },
  "language_info": {
   "codemirror_mode": {
    "name": "ipython",
    "version": 3
   },
   "file_extension": ".py",
   "mimetype": "text/x-python",
   "name": "python",
   "nbconvert_exporter": "python",
   "pygments_lexer": "ipython3",
   "version": "3.6.4"
  }
 },
 "nbformat": 4,
 "nbformat_minor": 2
}
