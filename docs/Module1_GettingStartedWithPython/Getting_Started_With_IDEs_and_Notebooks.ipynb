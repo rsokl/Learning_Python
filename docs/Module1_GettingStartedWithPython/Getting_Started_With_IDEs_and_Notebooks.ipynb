{
 "cells": [
  {
   "cell_type": "raw",
   "metadata": {
    "raw_mimetype": "text/restructuredtext"
   },
   "source": [
    ".. meta::\n",
    "   :description: Topic: Integrated Development Environments, Difficulty: Easy, Category: Tools\n",
    "   :keywords: python, introduction, IDE, PyCharm, VSCode, Jupyter, recommendation, tools"
   ]
  },
  {
   "cell_type": "markdown",
   "metadata": {},
   "source": [
    "# Setting Up a Development Environment\n",
    "## What You Will Learn\n",
    "\n",
    "- An IDE is a sophisticated text editor that allows you edit, run, and debug code. \n",
    "- The Python shell is an interface for typing Python code and executing it directly in your computer's terminal.\n",
    "- The IPython shell is a much nicer version of the Python shell - it provides syntax highlighting, autocompletion, and other features.\n",
    "- The Jupyter Notebook is a powerful tool for prototyping and experimenting with code, as well as visualizing data and writing nicely-formatted text. We will be using this throughout the course."
   ]
  },
  {
   "cell_type": "markdown",
   "metadata": {},
   "source": [
    "## Integrated Development Environments\n",
    "In Section 1 of this module, we learned that a Python script is simply a text file that contains Python code. Aside from using a `.py` suffix for the filename, there is nothing that differentiates this sort of file from any other text file. That being said, it is not a good idea to use a simple text editor to write Python code (and it is a big mistake use word-processing software, like Microsoft Word, to do so). Instead we want an \"integrated development environment\" (IDE) that will facilitate our code-writing. \n",
    "\n",
    "First and foremost, a good IDE will provide a text editor that will:\n",
    "\n",
    "- check your code for syntax errors (a misspelled function name, a reference to an undefined variable, etc)\n",
    "- colorize your code so that it is easy to distinguish, for instance, numbers from character strings.\n",
    "- enable you to easily look up documentation and definitions for functions that you are using.\n",
    "- autocomplete the names of variables and functions as you are typing them.\n",
    "\n",
    "An IDE also often provides debugging tools so that you can test your code; it will also typically interface with version-control software, like Git, so that you can keep track of versions of your code as you modify it. We will not discuss these useful, but more advanced features here.\n",
    "\n",
    "### Recommended IDEs\n",
    "There are many excellent IDEs that can be configured to work well with Python. Two IDEs that we endorse are:\n",
    " \n",
    "[PyCharm](https://www.jetbrains.com/pycharm/download): A powerful IDE dedicated to Python.\n",
    "\n",
    "**Pros**\n",
    "\n",
    "- works well out-of-the-box\n",
    "- long-supported by professionals and thus is very reliable\n",
    "- highly configurable\n",
    "- fully-featured, with an excellent debugger, context-dependent \"intellisense\", type-inference, and more\n",
    "- the free \"community version\" is extremely robust and feature-rich. \n",
    "\n",
    "**Cons**\n",
    "\n",
    " - can be resource-heavy, especially for a laptop\n",
    " - may be overwhelming to new users (but has good documentation and tutorials)\n",
    " - Jupyter notebook support requires the premium version of PyCharm, making it inaccessible to newcomers\n",
    " \n",
    "[Visual Studio Code](https://code.visualstudio.com/) with the [Python extension](https://code.visualstudio.com/docs/languages/python): A lightweight, highly customizable IDE.\n",
    "\n",
    "**Pros**\n",
    "\n",
    "- lightweight and elegant\n",
    "- completely free\n",
    "- works with many different languages, so you only need to familiarize yourself with one IDE if you are a polyglot programmer\n",
    "- a huge number of extensions can be downloaded to add functionality to the editor; these are created by a large community of open-source developers.\n",
    "- [has native support for Jupyter notebooks](https://code.visualstudio.com/docs/python/jupyter-support), meaning that you get VSCode's intellisense, debugger, and ability to inspect variables, all in a notebook.\n",
    "\n",
    "**Cons**\n",
    "\n",
    "- configuring VSCode for python development can have a moderate learning curve for newcomers\n",
    "- many features, like context-aware intellisense and type-inference, are simply more polished and powerful in PyCharm"
   ]
  },
  {
   "cell_type": "markdown",
   "metadata": {},
   "source": [
    "<div class=\"alert alert-info\">\n",
    "\n",
    "**Takeaway**:\n",
    "\n",
    "Integrated Development Environments (IDEs) provide powerful tools for helping you write well-formatted and typo-free code. We recommend using PyCharm Community Edition or Visual Studio Code (with the Python extension installed) for your Python IDE. \n",
    "</div>"
   ]
  }
 ],
 "metadata": {
  "jupytext": {
   "text_representation": {
    "extension": ".md",
    "format_name": "markdown",
    "format_version": "1.2",
    "jupytext_version": "1.3.0rc1"
   }
  },
  "kernelspec": {
   "display_name": "Python 3",
   "language": "python",
   "name": "python3"
  }
 },
 "nbformat": 4,
 "nbformat_minor": 4
}
