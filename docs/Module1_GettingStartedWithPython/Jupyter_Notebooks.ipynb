{
 "cells": [
  {
   "cell_type": "raw",
   "metadata": {
    "raw_mimetype": "text/restructuredtext"
   },
   "source": [
    ".. meta::\n",
    "   :description: Topic: Jupyter notebooks, Difficulty: Easy, Category: Tutorial\n",
    "   :keywords: jupyter, jupyter lab, notebook, kernel, basics, server, console, plot, beginner, data science"
   ]
  },
  {
   "cell_type": "markdown",
   "metadata": {},
   "source": [
    "# Jupyter Notebooks\n",
    "\n",
    "In recent years, the Jupyter Notebook has become a massively popular tool for doing research-oriented work in Python and other languages alike.\n",
    "Its emergence marked a paradigm shift in the way data science is conducted. \n",
    "\n",
    "A Jupyter notebook is similar to the IPython console, but, instead of only being able to work with a single line of code at a time, you can easily edit and re-execute *any* code that had been written in a notebook. Furthermore, you can save a notebook, and thus return to it later.\n",
    "Additionally, a notebook provides many terrific features. For instance, you can embed visualizations of data within a notebook, and write blocks of nicely-formatted text (using the [Markdown syntax](https://github.com/adam-p/markdown-here/wiki/Markdown-Cheatsheet)), for presenting and explaining the contents of the notebook. \n",
    "\n",
    "In this way, the Jupyter Notebook stands out as an excellent tool for many practical applications. You could work on a notebook while you are working through sections of this website, for instance, testing out snippets of code, and answering reading-comprehension questions as you proceed through the text, and using markdown-headers to visually separate different portions of the notebook. When I do research, I am always creating Jupyter notebooks in which I write code that analyzes data, I plot various results, presented in different ways, and I write detailed markdown-text blocks to document my work. The end result is something that I can share with my labmates, and easily revisit months later without having to struggle to recall what I had done.\n",
    "\n",
    "## Jupyter Lab\n",
    "[Jupyter lab](https://jupyterlab.readthedocs.io/) is a new web interface from Project Jupyter that provides a rich web-based interface for managing and running Jupyter notebooks, console terminals, and text editors, all within your browser.\n",
    "Among its useful features and polished user interface, Jupyter lab provides moveable panes for viewing data, images, and code output apart from the rest of the notebook.\n",
    "This is facilitates effective data science work flows.\n",
    "\n",
    "It is recommended that you peruse the [Jupyter lab documentation](https://jupyterlab.readthedocs.io/en/stable/getting_started/overview.html) to get a feel for all of its added capabilities."
   ]
  },
  {
   "cell_type": "markdown",
   "metadata": {},
   "source": [
    "The following instructions are laid out for running a Jupyter notebook server. That being said, the process for running a Jupyter lab server and working with notebooks therein is nearly identical.\n",
    "Both Jupyter notebook and Jupyter lab should already be [installed via Anaconda](https://www.pythonlikeyoumeanit.com/Module1_GettingStartedWithPython/Installing_Python.html)."
   ]
  },
  {
   "cell_type": "markdown",
   "metadata": {},
   "source": [
    "## Running a Notebook Server & Creating a Notebook\n",
    "Enough gushing about Jupyter notebooks. Let's start using them!\n",
    "\n",
    "In your terminal, navigate to a directory (a.k.a folder) that you are okay creating files in. If you don't know how to do this, Google it!\n",
    "\n",
    "Once you are in the desired directory, execute in your terminal (type the following, and then hit `<ENTER>`): `jupyter notebook`\n",
    "\n",
    "Alternatively, if you want to work in Jupyter lab, run: `jupyter lab`\n",
    "\n",
    "You should see some text appear in your terminal:\n",
    "\n",
    "![Starting a jupyter notebook server on your machine](attachments/jupyter_login.PNG)\n",
    "\n",
    "This is a \"notebook server\" that is running on your machine - it basically handles all of the communication between your browser and your machine. A new window or tab should open in your web browser, which looks like a file explorer. \n",
    "\n",
    "![File explorer that opens in your browser](attachments/jp_files.PNG)"
   ]
  },
  {
   "cell_type": "markdown",
   "metadata": {},
   "source": [
    "You can use this to enter subdirectories and to open up any Jupyter notebooks that you have saved. *You will need to use this file explorer any time that you want to open up a Jupyter notebook, old or new.* In the top-right corner of this window, click on the dropdown menu labeled \"New\", and select the option `Python 3`.\n",
    "\n",
    "![](attachments/jp_dropdown.PNG)\n",
    "\n",
    "A new tab will open in your browser, revealing a \"Jupyter notebook\" called `Untitled.ipynb` running a Python 3 kernel. Clicking `File > Rename` in the notebook will enable you to name your notebook. `.ipynb` is the file-type suffix used for Jupyter notebooks (`ipynb` stands for \"IPython-notebook\", which is what these notebooks were called prior to 2014). The commands that you run in this notebook are interpreted and executed by Python in the essentially same way that they would be in a IPython console. \n",
    "\n",
    "<div class=\"alert alert-warning\">\n",
    "\n",
    "**Jupyter Notebooks Do Not Use the Internet**: \n",
    "\n",
    "Although a Jupyter notebook opens in your browser, *everything is happening locally on your machine*. You don't need to be connected to the internet to work on a Jupyter notebook! The notebook server that you ran in your terminal is simply routing communication from your browser to your local machine. For instance, it is sending code to your CPython interpreter to be executed.\n",
    "</div>\n",
    "\n",
    "\n"
   ]
  },
  {
   "cell_type": "markdown",
   "metadata": {},
   "source": [
    "## Notebook Cells \n",
    "Whereas a Python console only allows you to work on one line of code at a time, a notebook allows you to write code within \"cells\" and to execute these chunks of code cell-by-cell. In the first cell, write the lines of code:\n",
    "\n",
    "```python\n",
    "x = 3\n",
    "y = 4\n",
    "```\n",
    "then press `<SHIFT>+<ENTER>`. This will execute all of the code within the given cell (in this instance, assigning the variables `x` and `y` with the values 3 and 4, respectively) and then creates a new cell below. In the next cell type the code:\n",
    "\n",
    "```python\n",
    "x + y\n",
    "```\n",
    "and hit `<SHIFT>+<ENTER>` to execute this code. The number 7 will appear beneath the cell - this, of course, is the value that is returned when `3 + 4` is evaluated: \n",
    "\n",
    "![jupyter notebook example](attachments/jupyter_early.png)\n",
    "\n",
    "Notice that the notebook \"knows\" about its variables across its cells. This doesn't just work from top to bottom - you can define `z = 2` in the third cell, and then execute code that references `z` in the first cell. What really matters is the *order* in which the cells are executed. Notice that `In[1]` denotes that the top cell with the first input-cell executed in the notebook, and `In[2]` denotes the second cell that was executed. \n",
    "\n",
    "Formally, the cells within a given notebook share a common \"namespace\": any variable defined in a cell can be referenced or redefined in any other cell within the notebook. On the other hand, separate notebooks are completely independent from one another. You can be working on multiple notebooks at once, and they will never \"know\" about one another. \n",
    "\n",
    "A major value of using a notebook is that you can rapidly edit these cells (say, change `x = 3` to  `x = 10`), and re-execute them to nimbly tinker with whatever code you are developing. Although simple, this is a hugely powerful environment for prototyping code. "
   ]
  },
  {
   "cell_type": "markdown",
   "metadata": {},
   "source": [
    "## An Example Notebook\n",
    "To show off a more exciting use-case, let's create a notebook that plots some data for us. We'll use matplotlib, a Python library that is used for plotting data, and NumPy, the premiere library for doing numerical work in Python. We will import these libraries for use in our code. Next we'll define some mathematical functions. And finally, we'll plot these functions evaluated on a large number of closely-spaced points on the domain."
   ]
  },
  {
   "cell_type": "code",
   "execution_count": 1,
   "metadata": {
    "execution": {
     "iopub.execute_input": "2022-03-14T15:21:05.417855Z",
     "iopub.status.busy": "2022-03-14T15:21:05.416855Z",
     "iopub.status.idle": "2022-03-14T15:21:05.853720Z",
     "shell.execute_reply": "2022-03-14T15:21:05.852720Z"
    }
   },
   "outputs": [],
   "source": [
    "import numpy as np\n",
    "import matplotlib.pyplot as plt\n",
    "\n",
    "# this tells Jupyter to embed matplotlib plots in the notebook\n",
    "%matplotlib inline "
   ]
  },
  {
   "cell_type": "code",
   "execution_count": 2,
   "metadata": {
    "execution": {
     "iopub.execute_input": "2022-03-14T15:21:05.856720Z",
     "iopub.status.busy": "2022-03-14T15:21:05.856720Z",
     "iopub.status.idle": "2022-03-14T15:21:05.868720Z",
     "shell.execute_reply": "2022-03-14T15:21:05.868720Z"
    }
   },
   "outputs": [],
   "source": [
    "def sinc(x):\n",
    "    return np.sin(x) / x\n",
    "\n",
    "def d_sinc(x):\n",
    "    \"derivative of sinc-function\"\n",
    "    return np.cos(x)/x - np.sin(x)/x**2"
   ]
  },
  {
   "cell_type": "code",
   "execution_count": 3,
   "metadata": {
    "execution": {
     "iopub.execute_input": "2022-03-14T15:21:05.872720Z",
     "iopub.status.busy": "2022-03-14T15:21:05.871720Z",
     "iopub.status.idle": "2022-03-14T15:21:05.884007Z",
     "shell.execute_reply": "2022-03-14T15:21:05.884007Z"
    }
   },
   "outputs": [],
   "source": [
    "# evaluate functions at 1000 points evenly spaced in [-15, 15]\n",
    "x = np.linspace(-15, 15, 1000)\n",
    "f = sinc(x)\n",
    "df = d_sinc(x)"
   ]
  },
  {
   "cell_type": "code",
   "execution_count": 4,
   "metadata": {
    "execution": {
     "iopub.execute_input": "2022-03-14T15:21:05.897037Z",
     "iopub.status.busy": "2022-03-14T15:21:05.888005Z",
     "iopub.status.idle": "2022-03-14T15:21:06.381006Z",
     "shell.execute_reply": "2022-03-14T15:21:06.380008Z"
    }
   },
   "outputs": [
    {
     "data": {
      "image/png": "[encoded data removed]",
      "text/plain": [
       "<Figure size 432x288 with 1 Axes>"
      ]
     },
     "metadata": {
      "needs_background": "light"
     },
     "output_type": "display_data"
    }
   ],
   "source": [
    "# plot the sinc-function and its derivative\n",
    "fig, ax = plt.subplots()\n",
    "ax.plot(x, f, color=\"red\", label=r\"$sinc(x)$\")\n",
    "ax.plot(x, df, color=\"blue\", ls=\"--\", label=r\"$\\frac{d(sinc(x))}{dx}$\")\n",
    "\n",
    "\n",
    "ax.set_title(\"Example Notebook Plot\")\n",
    "ax.set_xlabel(r\"$x$ [radians]\")\n",
    "\n",
    "ax.grid(True)\n",
    "ax.legend();"
   ]
  },
  {
   "cell_type": "markdown",
   "metadata": {},
   "source": [
    "Notice that this notebook interface is great for making  adjustments to this plot. You can easily change the color or line-style of the plot and redraw it without having to recompute the functions. You simply re-execute the cell containing the plot code. This is especially nice when the numerical computations required to generate the curves are costly."
   ]
  },
  {
   "cell_type": "markdown",
   "metadata": {},
   "source": [
    "## Familiarizing Yourself with Jupyter Notebooks\n",
    "Here, we will review some essential keyboard shortcuts and notebook features, which will enable you to use notebooks competently. A notebook has two modes of operation: \n",
    "\n",
    "**Command Mode (Press** `<ESC>` **to activate)** \n",
    "\n",
    "When in command mode, you can use keyboard shortcuts to create/delete/cut/paste notebook cells, and to change a cell's type between code and markdown modes. Your selected cell will be surrounded by a *blue* border when you are in command mode. For a complete listing of keyboard shortcuts, toward the top of the notebook click `Help > Keyboard Shortcuts`. The most critical shortcuts are:\n",
    "\n",
    "- create a new cell above the current cell: `a`\n",
    "- create a new cell below the current cell: `b`\n",
    "- delete the current cell: `dd`\n",
    "- restart the notebook kernel (kill all executions and erase all defined variables): `00`\n",
    "- change the current cell's type to \"Code\": `y`\n",
    "- change the current cell's type to \"Markdown\": `m`\n",
    "\n",
    "**Edit Mode (Press** `<Enter>` **to activate)** \n",
    "\n",
    "Edit mode simply permits you to type text into the selected cell. When in edit mode, the current cell will be surrounded by a *green* border. There are two commands for executing a cell:\n",
    "\n",
    "- execute current cell: `<CTRL>+<ENTER>`\n",
    "- execute current cell and then create a new cell below: `<SHIFT>+<ENTER>`\n",
    "\n",
    "By default, a cell will be a code-type cell, meaning that its content will be formatted and executed as Python code. Just as you saw when using the IPython notebook, `<TAB>` can be used to perform autocomplete. Additionally, when your cursor is on the name of a Python function in your code, `<SHIFT>+<TAB>` will bring up a small window with the function's documentations string. This is *very* useful.\n",
    "\n",
    "![Looking up code documentation in a notebook](attachments/jp_docstring.PNG)\n",
    "\n",
    "### Markdown Cells\n",
    "When a cell is set to Markdown type, its content will not be interpreted as Python code. Instead, its contents will be rendered as stylized text. Refer to [this page](https://github.com/adam-p/markdown-here/wiki/Markdown-Cheatsheet) as a reference for various markdown stylings. Using markdown cells allows you to create section and subsection headers for your notebook, you can [render LaTeX math equations](http://jupyter-notebook.readthedocs.io/en/stable/examples/Notebook/Working%20With%20Markdown%20Cells.html#LaTeX-equations), embed images and videos in your notebook, and much more. In fact, every page in this website was created using Jupyter notebooks! Markdown-type cells are tremendously useful for creating high-quality, well-documented Jupyter notebooks. These are perfect for lab-report assignments.\n",
    "\n",
    "<div class=\"alert alert-warning\">\n",
    "\n",
    "**Be Aware of Cell-Type**:\n",
    "\n",
    "If you ever find that your Python code isn't being formatted properly, and doesn't run at all when you execute the cell (you get no output, not even errors), there is a good chance that you have accidentally set the cell to be a 'Markdown'-type cell! Change the cell back to code-type by entering command mode (`<ESC>`) and pressing `y`.\n",
    "\n",
    "</div>"
   ]
  },
  {
   "cell_type": "markdown",
   "metadata": {},
   "source": [
    "### Using Jupyter Notebooks with Other Languages\n",
    "The Jupyter Notebook does not work exclusively with Python. A \"kernel\" can be developed in order to provide support for a given programming language in Jupyter. Indeed, kernels for several prominent programming languages are being developed for use with Jupyter: \n",
    "\n",
    "- [R](https://github.com/IRkernel/IRkernel)\n",
    "- [Julia](https://github.com/JuliaLang/IJulia.jl)\n",
    "- [Ruby](https://github.com/SciRuby/iruby)\n",
    "- [C++](https://github.com/QuantStack/xeus-cling)\n",
    "- [Haskell](https://github.com/gibiansky/IHaskell)\n",
    "- [Go](https://github.com/gopherdata/gophernotes)\n",
    "\n",
    "The ever-growing list of available kernels for use with Jupyter can be found [here](https://github.com/jupyter/jupyter/wiki/Jupyter-kernels). It should be noted that these efforts are not all equally mature. For instance, whereas the Python and Julia kernels are robust, the Haskell kernel cannot run natively on Windows machines, and the C++ kernel is still in early development, as of writing this. \n",
    "\n",
    "### Jupyter Notebook Support in Visual Studio Code\n",
    "[Visual Studio Code provides native support for Jupyter notebooks](https://code.visualstudio.com/docs/datascience/jupyter-notebooks). This means that you can now edit Jupyter notebooks within the [Visual Studio Code IDE](https://www.pythonlikeyoumeanit.com/Module1_GettingStartedWithPython/Getting_Started_With_IDEs_and_Notebooks.html), and that you will benefit from added features like code-completion, debugging, and variable inspection."
   ]
  }
 ],
 "metadata": {
  "jupytext": {
   "text_representation": {
    "extension": ".md",
    "format_name": "markdown",
    "format_version": "1.3",
    "jupytext_version": "1.13.6"
   }
  },
  "kernelspec": {
   "display_name": "Python 3",
   "language": "python",
   "name": "python3"
  },
  "language_info": {
   "codemirror_mode": {
    "name": "ipython",
    "version": 3
   },
   "file_extension": ".py",
   "mimetype": "text/x-python",
   "name": "python",
   "nbconvert_exporter": "python",
   "pygments_lexer": "ipython3",
   "version": "3.8.12"
  }
 },
 "nbformat": 4,
 "nbformat_minor": 4
}
