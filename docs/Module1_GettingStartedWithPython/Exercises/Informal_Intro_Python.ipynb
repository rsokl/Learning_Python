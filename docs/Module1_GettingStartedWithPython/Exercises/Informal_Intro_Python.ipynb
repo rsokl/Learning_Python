{
 "cells": [
  {
   "cell_type": "markdown",
   "metadata": {},
   "source": [
    "# Exercises"
   ]
  },
  {
   "cell_type": "markdown",
   "metadata": {},
   "source": [
    "#### Checking Python Version (not graded)\n",
    "Run \n",
    "```python\n",
    "import sys\n",
    "``` \n",
    "and then \n",
    "```python\n",
    "print(sys.version)\n",
    "```\n",
    "to confirm you have Python 3.5 (or greater)."
   ]
  },
  {
   "cell_type": "markdown",
   "metadata": {},
   "source": [
    "#### Slicing Strings (not graded)\n",
    "Create a variable, `x`, with the string value `\"I'm a string, hear me roar!\"` assigned to it. Now print out the last 13 characters contained in `x` via slicing."
   ]
  },
  {
   "cell_type": "markdown",
   "metadata": {},
   "source": [
    "#### Constructing a List (not graded)\n",
    "Create an empty list, `x = []`. Using \n",
    " - a `while` loop \n",
    " - the list-method `append`\n",
    " - the built-in function `len`\n",
    "append numbers to `x` until it contains 0-9: `[0, 1, 2, 3, 4, 5, 6, 7, 8, 9]`.\n",
    "\n",
    "> WARNING: if you give the while-loop a condition that never evaluates to False then your code will run forever. If this happens, at the top of your Jupyter notebook go to Kernel and then click Interrupt. If you are in the IPython shell, hit CTRL-C or close the terminal.\n",
    "\n",
    "**Bonus**: accomplish this without using any variables, other than `x`.\n",
    "\n",
    ">Note that there are much simpler ways to construct a list of numbers than by appending to one in a while loop. For instance, one can use list comprehensions. We will learn about these later."
   ]
  },
  {
   "cell_type": "markdown",
   "metadata": {},
   "source": [
    "#### Slicing a List (not graded)\n",
    "Given `x = [1, 2, 3, 4, 5]`, predict the output following sliced lists. Try rewriting any negative indices using the appropriate positive indices.\n",
    "\n",
    "- `x[-3:]`\n",
    "- `x[-3:2]`\n",
    "- `x[-6:4]`"
   ]
  },
  {
   "cell_type": "markdown",
   "metadata": {},
   "source": [
    "#### Operating on Various Data Types (not graded)\n",
    "Why can Python calculate `1 + 1` and `'1' + '1'` but not `'1' + 1`?"
   ]
  },
  {
   "cell_type": "markdown",
   "metadata": {},
   "source": [
    "#### Doing Simple Arithmetic (not graded)\n",
    "Given a, b, and c calculate and print the two solutions to the quadratic equation using the quadratic formula.\n",
    "\n",
    ">(Use `x**.5` to take the square root of an expression)"
   ]
  }
 ],
 "metadata": {
  "kernelspec": {
   "display_name": "Python 3",
   "language": "python",
   "name": "python3"
  },
  "language_info": {
   "codemirror_mode": {
    "name": "ipython",
    "version": 3
   },
   "file_extension": ".py",
   "mimetype": "text/x-python",
   "name": "python",
   "nbconvert_exporter": "python",
   "pygments_lexer": "ipython3",
   "version": "3.6.1"
  }
 },
 "nbformat": 4,
 "nbformat_minor": 2
}
