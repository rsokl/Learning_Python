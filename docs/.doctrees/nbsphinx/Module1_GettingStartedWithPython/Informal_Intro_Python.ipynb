{
 "cells": [
  {
   "cell_type": "raw",
   "metadata": {
    "raw_mimetype": "text/restructuredtext"
   },
   "source": [
    ".. meta::\n",
    "   :description: Topic: Informal Introduction to Python, Difficulty: Easy, Category: Tutorial\n",
    "   :keywords: python, installation, script, introduction, ipython, console, quick introduction"
   ]
  },
  {
   "cell_type": "markdown",
   "metadata": {},
   "source": [
    "# An Informal Introduction to Python\n",
    "\n",
    "Now that you have the Anaconda distribution of Python installed on your machine, let's write some simple Python code! We are going to forego writing a full Python script for now, and instead make use of a convenient tool for doing quick code scratchwork. The IPython console was installed as a part of Anaconda; it will allow us to build incrementally off of snippets of code, instead of having to execute an entire script all at once. \n",
    "\n",
    "Let's open an IPython console. Open your terminal if you are a Mac/Linux user, or start `cmd.exe` if you are a Windows user. Now type `ipython` into the console and hit `<Enter>`. You should see the following display on your screen:\n",
    "\n",
    "![IPython console example](attachments/ipython_0.PNG)\n",
    "\n",
    "We can type small pieces of Python code into this console, and then simply hit `<Enter>` to have the CPython interpreter execute our code immediately within the IPython console!\n",
    "\n",
    "Let's acquaint ourselves with Python's numbers, strings, and lists. In doing so, we will learn about the Python standard library, and how to make use of its modules, like the math module. IPython's autocompletion and documentation-display utilities will provide a nice means for exploring the library and the functionality built into the different types of Python objects. A quick glimpse at Python's strings and lists will hint at the common interface Python provides for working with sequences of objects, while highlighting some of the nice features of these all-important data types. \n",
    "\n",
    "## Dabbling with Numbers \n",
    "Time to execute some Python code that performs simple arithmetic. Typing `2 + 3` into the IPython console and hitting the `<ENTER>` key, you should see the following input and output in the console:"
   ]
  },
  {
   "cell_type": "code",
   "execution_count": 1,
   "metadata": {
    "execution": {
     "iopub.execute_input": "2022-03-14T15:21:00.903919Z",
     "iopub.status.busy": "2022-03-14T15:21:00.903919Z",
     "iopub.status.idle": "2022-03-14T15:21:00.924298Z",
     "shell.execute_reply": "2022-03-14T15:21:00.923270Z"
    }
   },
   "outputs": [
    {
     "data": {
      "text/plain": [
       "5"
      ]
     },
     "execution_count": 1,
     "metadata": {},
     "output_type": "execute_result"
    }
   ],
   "source": [
    "2 + 3"
   ]
  },
  {
   "cell_type": "markdown",
   "metadata": {},
   "source": [
    "This console session is persistent, meaning that we can define a variable and then reference it in our code later on within this console session. Let's define the variable `x` and assign it to the integer `10` (please follow along in the IPython console)"
   ]
  },
  {
   "cell_type": "code",
   "execution_count": 2,
   "metadata": {
    "execution": {
     "iopub.execute_input": "2022-03-14T15:21:00.926268Z",
     "iopub.status.busy": "2022-03-14T15:21:00.926268Z",
     "iopub.status.idle": "2022-03-14T15:21:00.938619Z",
     "shell.execute_reply": "2022-03-14T15:21:00.938619Z"
    }
   },
   "outputs": [],
   "source": [
    "x = 10"
   ]
  },
  {
   "cell_type": "markdown",
   "metadata": {},
   "source": [
    "We can check the contents of `x` in this console by simply entering `x` in the next line and hitting `<ENTER>`:"
   ]
  },
  {
   "cell_type": "code",
   "execution_count": 3,
   "metadata": {
    "execution": {
     "iopub.execute_input": "2022-03-14T15:21:00.941620Z",
     "iopub.status.busy": "2022-03-14T15:21:00.941620Z",
     "iopub.status.idle": "2022-03-14T15:21:00.955014Z",
     "shell.execute_reply": "2022-03-14T15:21:00.954014Z"
    }
   },
   "outputs": [
    {
     "data": {
      "text/plain": [
       "10"
      ]
     },
     "execution_count": 3,
     "metadata": {},
     "output_type": "execute_result"
    }
   ],
   "source": [
    "x"
   ]
  },
  {
   "cell_type": "markdown",
   "metadata": {},
   "source": [
    "Now, let's use `x` in a quadratic equation $x^{2} + 2x + 3$, and compute this total."
   ]
  },
  {
   "cell_type": "code",
   "execution_count": 4,
   "metadata": {
    "execution": {
     "iopub.execute_input": "2022-03-14T15:21:00.958015Z",
     "iopub.status.busy": "2022-03-14T15:21:00.957014Z",
     "iopub.status.idle": "2022-03-14T15:21:00.970722Z",
     "shell.execute_reply": "2022-03-14T15:21:00.970722Z"
    }
   },
   "outputs": [
    {
     "data": {
      "text/plain": [
       "123"
      ]
     },
     "execution_count": 4,
     "metadata": {},
     "output_type": "execute_result"
    }
   ],
   "source": [
    "x**2 + 2*x + 3"
   ]
  },
  {
   "cell_type": "markdown",
   "metadata": {},
   "source": [
    "Python's \"standard library\", the various tools and functions that come packaged as part of the core language, includes plenty of familiar mathematical functions. As a matter of organization, Python stores these mathematical functions away in a module named \"math\". To make use of this math module, we must import it into our code. "
   ]
  },
  {
   "cell_type": "code",
   "execution_count": 5,
   "metadata": {
    "execution": {
     "iopub.execute_input": "2022-03-14T15:21:00.973694Z",
     "iopub.status.busy": "2022-03-14T15:21:00.972694Z",
     "iopub.status.idle": "2022-03-14T15:21:00.986986Z",
     "shell.execute_reply": "2022-03-14T15:21:00.986015Z"
    }
   },
   "outputs": [],
   "source": [
    "import math"
   ]
  },
  {
   "cell_type": "markdown",
   "metadata": {},
   "source": [
    "Having imported it, the term `math` now refers to the math module in our code. IPython provides a nice way for us to see a list of all the functions that are provided by the math module. To utilize this, type into the console `math.` (note the trailing period) and then hit `<TAB>`. You should see this list appear:"
   ]
  },
  {
   "cell_type": "markdown",
   "metadata": {},
   "source": [
    "![Displaying the contents of the math module](attachments/ipython_math.PNG)"
   ]
  },
  {
   "cell_type": "markdown",
   "metadata": {},
   "source": [
    "In general, hitting `<TAB>` will cue IPython to try to autocomplete code for you. This menu displays all the valid things that you could type after `math.`. Looking at the functions starting with \"s\", we see `sqrt()`. This is the square root function. To see autocompletion in action, type `math.sq` and then hit `<TAB>`. You should see the code autocomplete to `math.sqrt`.\n",
    "\n",
    "Let's use this function to compute $\\sqrt{100}$:"
   ]
  },
  {
   "cell_type": "code",
   "execution_count": 6,
   "metadata": {
    "execution": {
     "iopub.execute_input": "2022-03-14T15:21:00.989985Z",
     "iopub.status.busy": "2022-03-14T15:21:00.988986Z",
     "iopub.status.idle": "2022-03-14T15:21:01.003083Z",
     "shell.execute_reply": "2022-03-14T15:21:01.002082Z"
    }
   },
   "outputs": [
    {
     "data": {
      "text/plain": [
       "10.0"
      ]
     },
     "execution_count": 6,
     "metadata": {},
     "output_type": "execute_result"
    }
   ],
   "source": [
    "math.sqrt(100)"
   ]
  },
  {
   "cell_type": "markdown",
   "metadata": {},
   "source": [
    "You might wonder why the result displayed as `10.0` and not simply as `10`; in Module 2 we will see that these are two different *types* of numbers in the Python language. The former is called a floating-point number, indicating the presence of its decimal point, whereas the latter is an integer. The `math.sqrt` function is defined such that it always returns its results as floating-point numbers.\n",
    "\n",
    "In the case that we want to make frequent use of a certain function from the math module, it'd be nice to avoid having to type out the math module prefix, `math.`, repeatedly. We can accomplish this by importing an individual function from the math module. Let's import the factorial function from the math module."
   ]
  },
  {
   "cell_type": "code",
   "execution_count": 7,
   "metadata": {
    "execution": {
     "iopub.execute_input": "2022-03-14T15:21:01.006081Z",
     "iopub.status.busy": "2022-03-14T15:21:01.006081Z",
     "iopub.status.idle": "2022-03-14T15:21:01.018915Z",
     "shell.execute_reply": "2022-03-14T15:21:01.017929Z"
    }
   },
   "outputs": [],
   "source": [
    "from math import factorial"
   ]
  },
  {
   "cell_type": "markdown",
   "metadata": {},
   "source": [
    "We can now make use of the `factorial` function in our code. Recall that 5-factorial is $5! = 5\\times 4\\times 3\\times 2\\times 1 = 120$  "
   ]
  },
  {
   "cell_type": "code",
   "execution_count": 8,
   "metadata": {
    "execution": {
     "iopub.execute_input": "2022-03-14T15:21:01.021915Z",
     "iopub.status.busy": "2022-03-14T15:21:01.021915Z",
     "iopub.status.idle": "2022-03-14T15:21:01.034208Z",
     "shell.execute_reply": "2022-03-14T15:21:01.033177Z"
    }
   },
   "outputs": [
    {
     "data": {
      "text/plain": [
       "120"
      ]
     },
     "execution_count": 8,
     "metadata": {},
     "output_type": "execute_result"
    }
   ],
   "source": [
    "factorial(5)"
   ]
  },
  {
   "cell_type": "markdown",
   "metadata": {},
   "source": [
    "## Messing with Strings\n",
    "In the context of code, written text is referred to as a string of characters, or string for short. Python is an excellent language for doing text-processing work as it provides many convenient, efficient functions for working with strings. \n",
    "\n",
    "To begin, we simply form a string by typing characters between quotation marks:"
   ]
  },
  {
   "cell_type": "code",
   "execution_count": 9,
   "metadata": {
    "execution": {
     "iopub.execute_input": "2022-03-14T15:21:01.037178Z",
     "iopub.status.busy": "2022-03-14T15:21:01.037178Z",
     "iopub.status.idle": "2022-03-14T15:21:01.050387Z",
     "shell.execute_reply": "2022-03-14T15:21:01.049357Z"
    }
   },
   "outputs": [
    {
     "data": {
      "text/plain": [
       "'the cat in the hat'"
      ]
     },
     "execution_count": 9,
     "metadata": {},
     "output_type": "execute_result"
    }
   ],
   "source": [
    "\"the cat in the hat\""
   ]
  },
  {
   "cell_type": "markdown",
   "metadata": {},
   "source": [
    "Single quotes also work:"
   ]
  },
  {
   "cell_type": "code",
   "execution_count": 10,
   "metadata": {
    "execution": {
     "iopub.execute_input": "2022-03-14T15:21:01.054357Z",
     "iopub.status.busy": "2022-03-14T15:21:01.053358Z",
     "iopub.status.idle": "2022-03-14T15:21:01.064566Z",
     "shell.execute_reply": "2022-03-14T15:21:01.065588Z"
    }
   },
   "outputs": [
    {
     "data": {
      "text/plain": [
       "'the dog in the sash'"
      ]
     },
     "execution_count": 10,
     "metadata": {},
     "output_type": "execute_result"
    }
   ],
   "source": [
    "'the dog in the sash'"
   ]
  },
  {
   "cell_type": "markdown",
   "metadata": {},
   "source": [
    "If you use single quotes to form a string, then that string is able to contain the double-quote as a character (and vice versa):"
   ]
  },
  {
   "cell_type": "code",
   "execution_count": 11,
   "metadata": {
    "execution": {
     "iopub.execute_input": "2022-03-14T15:21:01.069564Z",
     "iopub.status.busy": "2022-03-14T15:21:01.068566Z",
     "iopub.status.idle": "2022-03-14T15:21:01.081708Z",
     "shell.execute_reply": "2022-03-14T15:21:01.080679Z"
    }
   },
   "outputs": [
    {
     "data": {
      "text/plain": [
       "'He picked up the phone, \"Hello? What do you want?\" Bob was a rather impolite dude.'"
      ]
     },
     "execution_count": 11,
     "metadata": {},
     "output_type": "execute_result"
    }
   ],
   "source": [
    "'He picked up the phone, \"Hello? What do you want?\" Bob was a rather impolite dude.'"
   ]
  },
  {
   "cell_type": "markdown",
   "metadata": {},
   "source": [
    "There are designated special characters that allow us to affect the way a string is formatted when it is printed to the string. For example, if `\\n` ever occurs in a string, it is treated as a single character that indicates a line-break. This will only manifest if such a string is fed to the built-in `print` function, which informs the computer to print text to a user's screen.\n",
    "\n",
    "Let's create a string that will display as three separate lines, when printed to the screen."
   ]
  },
  {
   "cell_type": "code",
   "execution_count": 12,
   "metadata": {
    "execution": {
     "iopub.execute_input": "2022-03-14T15:21:01.085678Z",
     "iopub.status.busy": "2022-03-14T15:21:01.084679Z",
     "iopub.status.idle": "2022-03-14T15:21:01.097450Z",
     "shell.execute_reply": "2022-03-14T15:21:01.096452Z"
    }
   },
   "outputs": [
    {
     "name": "stdout",
     "output_type": "stream",
     "text": [
      "I like to talk to dogs.\n",
      "I like to talk to cats.\n",
      "What's my deal?\n"
     ]
    }
   ],
   "source": [
    "print(\"I like to talk to dogs.\\nI like to talk to cats.\\nWhat's my deal?\")"
   ]
  },
  {
   "cell_type": "markdown",
   "metadata": {},
   "source": [
    "Of course, strings are useful beyond merely containing text! Let's explore some ways to manipulate strings. First, we'll write a string and assign it to a variable named `sentence`:"
   ]
  },
  {
   "cell_type": "code",
   "execution_count": 13,
   "metadata": {
    "execution": {
     "iopub.execute_input": "2022-03-14T15:21:01.101450Z",
     "iopub.status.busy": "2022-03-14T15:21:01.100450Z",
     "iopub.status.idle": "2022-03-14T15:21:01.112825Z",
     "shell.execute_reply": "2022-03-14T15:21:01.111826Z"
    }
   },
   "outputs": [],
   "source": [
    "sentence = \"Who would have thought that we were robots all along?\""
   ]
  },
  {
   "cell_type": "markdown",
   "metadata": {},
   "source": [
    "Let's see how many characters are in this string by checking the \"length\" of this sequence of characters:"
   ]
  },
  {
   "cell_type": "code",
   "execution_count": 14,
   "metadata": {
    "execution": {
     "iopub.execute_input": "2022-03-14T15:21:01.116795Z",
     "iopub.status.busy": "2022-03-14T15:21:01.115825Z",
     "iopub.status.idle": "2022-03-14T15:21:01.127971Z",
     "shell.execute_reply": "2022-03-14T15:21:01.126940Z"
    }
   },
   "outputs": [
    {
     "data": {
      "text/plain": [
       "53"
      ]
     },
     "execution_count": 14,
     "metadata": {},
     "output_type": "execute_result"
    }
   ],
   "source": [
    "len(sentence)"
   ]
  },
  {
   "cell_type": "markdown",
   "metadata": {},
   "source": [
    "We can access the first 4 characters in the string, the last 6 characters, or a few characters in the middle by \"slicing\" the string:"
   ]
  },
  {
   "cell_type": "code",
   "execution_count": 15,
   "metadata": {
    "execution": {
     "iopub.execute_input": "2022-03-14T15:21:01.130939Z",
     "iopub.status.busy": "2022-03-14T15:21:01.130939Z",
     "iopub.status.idle": "2022-03-14T15:21:01.143301Z",
     "shell.execute_reply": "2022-03-14T15:21:01.142305Z"
    }
   },
   "outputs": [
    {
     "data": {
      "text/plain": [
       "'Who '"
      ]
     },
     "execution_count": 15,
     "metadata": {},
     "output_type": "execute_result"
    }
   ],
   "source": [
    "sentence[:4]"
   ]
  },
  {
   "cell_type": "code",
   "execution_count": 16,
   "metadata": {
    "execution": {
     "iopub.execute_input": "2022-03-14T15:21:01.146273Z",
     "iopub.status.busy": "2022-03-14T15:21:01.146273Z",
     "iopub.status.idle": "2022-03-14T15:21:01.158409Z",
     "shell.execute_reply": "2022-03-14T15:21:01.157410Z"
    }
   },
   "outputs": [
    {
     "data": {
      "text/plain": [
       "'along?'"
      ]
     },
     "execution_count": 16,
     "metadata": {},
     "output_type": "execute_result"
    }
   ],
   "source": [
    "sentence[-6:]"
   ]
  },
  {
   "cell_type": "code",
   "execution_count": 17,
   "metadata": {
    "execution": {
     "iopub.execute_input": "2022-03-14T15:21:01.161411Z",
     "iopub.status.busy": "2022-03-14T15:21:01.161411Z",
     "iopub.status.idle": "2022-03-14T15:21:01.173812Z",
     "shell.execute_reply": "2022-03-14T15:21:01.172783Z"
    }
   },
   "outputs": [
    {
     "data": {
      "text/plain": [
       "'ould have thought'"
      ]
     },
     "execution_count": 17,
     "metadata": {},
     "output_type": "execute_result"
    }
   ],
   "source": [
    "sentence[5:22]"
   ]
  },
  {
   "cell_type": "markdown",
   "metadata": {},
   "source": [
    "We can also check to see if some other string is contained within our string. Is the string `\"robot\"` contained within `sentence`?"
   ]
  },
  {
   "cell_type": "code",
   "execution_count": 18,
   "metadata": {
    "execution": {
     "iopub.execute_input": "2022-03-14T15:21:01.176783Z",
     "iopub.status.busy": "2022-03-14T15:21:01.176783Z",
     "iopub.status.idle": "2022-03-14T15:21:01.189063Z",
     "shell.execute_reply": "2022-03-14T15:21:01.188037Z"
    }
   },
   "outputs": [
    {
     "data": {
      "text/plain": [
       "True"
      ]
     },
     "execution_count": 18,
     "metadata": {},
     "output_type": "execute_result"
    }
   ],
   "source": [
    "\"robot\" in sentence"
   ]
  },
  {
   "cell_type": "markdown",
   "metadata": {},
   "source": [
    "As a quick way to check out the built-in functions that strings have available to them, we can make use of IPython's autocompletion feature once again. Type `sentence.` (including the trailing period) and then hit `<TAB>`. A menu of functions should appear as so:"
   ]
  },
  {
   "cell_type": "markdown",
   "metadata": {},
   "source": [
    "![Built-in functions for a string](attachments/ipython_string.PNG)"
   ]
  },
  {
   "cell_type": "markdown",
   "metadata": {},
   "source": [
    "Let's use the count function to tally the number of lowercase w's in `sentence`"
   ]
  },
  {
   "cell_type": "code",
   "execution_count": 19,
   "metadata": {
    "execution": {
     "iopub.execute_input": "2022-03-14T15:21:01.193068Z",
     "iopub.status.busy": "2022-03-14T15:21:01.192068Z",
     "iopub.status.idle": "2022-03-14T15:21:01.204566Z",
     "shell.execute_reply": "2022-03-14T15:21:01.203535Z"
    }
   },
   "outputs": [
    {
     "data": {
      "text/plain": [
       "3"
      ]
     },
     "execution_count": 19,
     "metadata": {},
     "output_type": "execute_result"
    }
   ],
   "source": [
    "sentence.count('w')"
   ]
  },
  {
   "cell_type": "markdown",
   "metadata": {},
   "source": [
    "Let's see what the replace function does. IPython provides a great utility for looking up the documentation for a function by simply putting two question marks after the function name. For example:\n",
    "\n",
    "![Looking up documentation for a function](attachments/ipython_doc1.PNG)\n",
    "\n",
    "Putting our newfound understanding of the string's replace function, let's replace \"robot\" with \"computer\":"
   ]
  },
  {
   "cell_type": "code",
   "execution_count": 20,
   "metadata": {
    "execution": {
     "iopub.execute_input": "2022-03-14T15:21:01.208540Z",
     "iopub.status.busy": "2022-03-14T15:21:01.207535Z",
     "iopub.status.idle": "2022-03-14T15:21:01.219768Z",
     "shell.execute_reply": "2022-03-14T15:21:01.218768Z"
    }
   },
   "outputs": [
    {
     "data": {
      "text/plain": [
       "'Who would have thought that we were computers all along?'"
      ]
     },
     "execution_count": 20,
     "metadata": {},
     "output_type": "execute_result"
    }
   ],
   "source": [
    "sentence.replace(\"robot\", \"computer\")"
   ]
  },
  {
   "cell_type": "markdown",
   "metadata": {},
   "source": [
    "## Playing with Lists\n",
    "A list is one of several types of containers that are built into Python's standard library. It can hold a sequence of Python objects. We can create a list of numbers: "
   ]
  },
  {
   "cell_type": "code",
   "execution_count": 21,
   "metadata": {
    "execution": {
     "iopub.execute_input": "2022-03-14T15:21:01.222768Z",
     "iopub.status.busy": "2022-03-14T15:21:01.222768Z",
     "iopub.status.idle": "2022-03-14T15:21:01.234959Z",
     "shell.execute_reply": "2022-03-14T15:21:01.233928Z"
    }
   },
   "outputs": [
    {
     "data": {
      "text/plain": [
       "[-1, 0.3333333333333333, 20, 6]"
      ]
     },
     "execution_count": 21,
     "metadata": {},
     "output_type": "execute_result"
    }
   ],
   "source": [
    "[-1, 1/3, 10*2, 7-1]"
   ]
  },
  {
   "cell_type": "markdown",
   "metadata": {},
   "source": [
    "A list can contain any type of Python object; it can store a mix of numbers, strings, other lists, and much more!"
   ]
  },
  {
   "cell_type": "code",
   "execution_count": 22,
   "metadata": {
    "execution": {
     "iopub.execute_input": "2022-03-14T15:21:01.238927Z",
     "iopub.status.busy": "2022-03-14T15:21:01.237930Z",
     "iopub.status.idle": "2022-03-14T15:21:01.251065Z",
     "shell.execute_reply": "2022-03-14T15:21:01.250059Z"
    }
   },
   "outputs": [
    {
     "data": {
      "text/plain": [
       "[1, 2, 'a', 0.5, 'apple and orange']"
      ]
     },
     "execution_count": 22,
     "metadata": {},
     "output_type": "execute_result"
    }
   ],
   "source": [
    "[1, 2, \"a\", 0.5, \"apple and orange\"]"
   ]
  },
  {
   "cell_type": "markdown",
   "metadata": {},
   "source": [
    "You can join lists together, which is known as concatenation."
   ]
  },
  {
   "cell_type": "code",
   "execution_count": 23,
   "metadata": {
    "execution": {
     "iopub.execute_input": "2022-03-14T15:21:01.255036Z",
     "iopub.status.busy": "2022-03-14T15:21:01.254034Z",
     "iopub.status.idle": "2022-03-14T15:21:01.266290Z",
     "shell.execute_reply": "2022-03-14T15:21:01.265291Z"
    }
   },
   "outputs": [
    {
     "data": {
      "text/plain": [
       "[1, 2, 3, 'a', 'b', 'c']"
      ]
     },
     "execution_count": 23,
     "metadata": {},
     "output_type": "execute_result"
    }
   ],
   "source": [
    "[1, 2, 3] + [\"a\", \"b\", \"c\"]"
   ]
  },
  {
   "cell_type": "markdown",
   "metadata": {},
   "source": [
    "Like a string, a list is sequential in nature and we can access the items in a list by specifying its position in the sequence. This is known as \"indexing\" the list; the index of the first item in a sequence is always 0."
   ]
  },
  {
   "cell_type": "code",
   "execution_count": 24,
   "metadata": {
    "execution": {
     "iopub.execute_input": "2022-03-14T15:21:01.270295Z",
     "iopub.status.busy": "2022-03-14T15:21:01.269260Z",
     "iopub.status.idle": "2022-03-14T15:21:01.281375Z",
     "shell.execute_reply": "2022-03-14T15:21:01.280371Z"
    }
   },
   "outputs": [],
   "source": [
    "my_list = [10, 20, 30, 40, 50, 60]"
   ]
  },
  {
   "cell_type": "code",
   "execution_count": 25,
   "metadata": {
    "execution": {
     "iopub.execute_input": "2022-03-14T15:21:01.284375Z",
     "iopub.status.busy": "2022-03-14T15:21:01.284375Z",
     "iopub.status.idle": "2022-03-14T15:21:01.296630Z",
     "shell.execute_reply": "2022-03-14T15:21:01.295604Z"
    }
   },
   "outputs": [
    {
     "data": {
      "text/plain": [
       "10"
      ]
     },
     "execution_count": 25,
     "metadata": {},
     "output_type": "execute_result"
    }
   ],
   "source": [
    "my_list[0]"
   ]
  },
  {
   "cell_type": "code",
   "execution_count": 26,
   "metadata": {
    "execution": {
     "iopub.execute_input": "2022-03-14T15:21:01.299602Z",
     "iopub.status.busy": "2022-03-14T15:21:01.299602Z",
     "iopub.status.idle": "2022-03-14T15:21:01.311783Z",
     "shell.execute_reply": "2022-03-14T15:21:01.310782Z"
    }
   },
   "outputs": [
    {
     "data": {
      "text/plain": [
       "20"
      ]
     },
     "execution_count": 26,
     "metadata": {},
     "output_type": "execute_result"
    }
   ],
   "source": [
    "my_list[1]"
   ]
  },
  {
   "cell_type": "markdown",
   "metadata": {},
   "source": [
    "Negative integers can be used to index relative to the end (right-side) of the list."
   ]
  },
  {
   "cell_type": "code",
   "execution_count": 27,
   "metadata": {
    "execution": {
     "iopub.execute_input": "2022-03-14T15:21:01.314783Z",
     "iopub.status.busy": "2022-03-14T15:21:01.314783Z",
     "iopub.status.idle": "2022-03-14T15:21:01.326105Z",
     "shell.execute_reply": "2022-03-14T15:21:01.327137Z"
    }
   },
   "outputs": [
    {
     "data": {
      "text/plain": [
       "60"
      ]
     },
     "execution_count": 27,
     "metadata": {},
     "output_type": "execute_result"
    }
   ],
   "source": [
    "my_list[-1]"
   ]
  },
  {
   "cell_type": "markdown",
   "metadata": {},
   "source": [
    "You can change an entry in a list by assigning it to a new value."
   ]
  },
  {
   "cell_type": "code",
   "execution_count": 28,
   "metadata": {
    "execution": {
     "iopub.execute_input": "2022-03-14T15:21:01.330106Z",
     "iopub.status.busy": "2022-03-14T15:21:01.330106Z",
     "iopub.status.idle": "2022-03-14T15:21:01.342497Z",
     "shell.execute_reply": "2022-03-14T15:21:01.341497Z"
    }
   },
   "outputs": [
    {
     "data": {
      "text/plain": [
       "False"
      ]
     },
     "execution_count": 28,
     "metadata": {},
     "output_type": "execute_result"
    }
   ],
   "source": [
    "-5 in my_list"
   ]
  },
  {
   "cell_type": "code",
   "execution_count": 29,
   "metadata": {
    "execution": {
     "iopub.execute_input": "2022-03-14T15:21:01.345498Z",
     "iopub.status.busy": "2022-03-14T15:21:01.345498Z",
     "iopub.status.idle": "2022-03-14T15:21:01.356498Z",
     "shell.execute_reply": "2022-03-14T15:21:01.357491Z"
    }
   },
   "outputs": [],
   "source": [
    "my_list[1] = -5"
   ]
  },
  {
   "cell_type": "code",
   "execution_count": 30,
   "metadata": {
    "execution": {
     "iopub.execute_input": "2022-03-14T15:21:01.361468Z",
     "iopub.status.busy": "2022-03-14T15:21:01.360496Z",
     "iopub.status.idle": "2022-03-14T15:21:01.372939Z",
     "shell.execute_reply": "2022-03-14T15:21:01.371909Z"
    }
   },
   "outputs": [
    {
     "data": {
      "text/plain": [
       "[10, -5, 30, 40, 50, 60]"
      ]
     },
     "execution_count": 30,
     "metadata": {},
     "output_type": "execute_result"
    }
   ],
   "source": [
    "my_list"
   ]
  },
  {
   "cell_type": "code",
   "execution_count": 31,
   "metadata": {
    "execution": {
     "iopub.execute_input": "2022-03-14T15:21:01.376909Z",
     "iopub.status.busy": "2022-03-14T15:21:01.375936Z",
     "iopub.status.idle": "2022-03-14T15:21:01.388939Z",
     "shell.execute_reply": "2022-03-14T15:21:01.387909Z"
    }
   },
   "outputs": [
    {
     "data": {
      "text/plain": [
       "True"
      ]
     },
     "execution_count": 31,
     "metadata": {},
     "output_type": "execute_result"
    }
   ],
   "source": [
    "-5 in my_list"
   ]
  },
  {
   "cell_type": "markdown",
   "metadata": {},
   "source": [
    "We can also access multiple items in a list at once by slicing the list, like we did with the string."
   ]
  },
  {
   "cell_type": "code",
   "execution_count": 32,
   "metadata": {
    "execution": {
     "iopub.execute_input": "2022-03-14T15:21:01.392909Z",
     "iopub.status.busy": "2022-03-14T15:21:01.391912Z",
     "iopub.status.idle": "2022-03-14T15:21:01.404303Z",
     "shell.execute_reply": "2022-03-14T15:21:01.403277Z"
    }
   },
   "outputs": [
    {
     "data": {
      "text/plain": [
       "[10, -5, 30]"
      ]
     },
     "execution_count": 32,
     "metadata": {},
     "output_type": "execute_result"
    }
   ],
   "source": [
    "my_list[:3]"
   ]
  },
  {
   "cell_type": "markdown",
   "metadata": {},
   "source": [
    "This slice can be used to update the first three entries of the list"
   ]
  },
  {
   "cell_type": "code",
   "execution_count": 33,
   "metadata": {
    "execution": {
     "iopub.execute_input": "2022-03-14T15:21:01.407273Z",
     "iopub.status.busy": "2022-03-14T15:21:01.407273Z",
     "iopub.status.idle": "2022-03-14T15:21:01.419497Z",
     "shell.execute_reply": "2022-03-14T15:21:01.418514Z"
    }
   },
   "outputs": [],
   "source": [
    "my_list[:3] = \"abc\""
   ]
  },
  {
   "cell_type": "code",
   "execution_count": 34,
   "metadata": {
    "execution": {
     "iopub.execute_input": "2022-03-14T15:21:01.423497Z",
     "iopub.status.busy": "2022-03-14T15:21:01.422467Z",
     "iopub.status.idle": "2022-03-14T15:21:01.434696Z",
     "shell.execute_reply": "2022-03-14T15:21:01.433696Z"
    }
   },
   "outputs": [
    {
     "data": {
      "text/plain": [
       "['a', 'b', 'c', 40, 50, 60]"
      ]
     },
     "execution_count": 34,
     "metadata": {},
     "output_type": "execute_result"
    }
   ],
   "source": [
    "my_list"
   ]
  },
  {
   "cell_type": "markdown",
   "metadata": {},
   "source": [
    "To wrap up this quick demo, let's append an new entry to the end of this list."
   ]
  },
  {
   "cell_type": "code",
   "execution_count": 35,
   "metadata": {
    "execution": {
     "iopub.execute_input": "2022-03-14T15:21:01.437729Z",
     "iopub.status.busy": "2022-03-14T15:21:01.437729Z",
     "iopub.status.idle": "2022-03-14T15:21:01.449865Z",
     "shell.execute_reply": "2022-03-14T15:21:01.448835Z"
    }
   },
   "outputs": [],
   "source": [
    "my_list.append(\"moo\")"
   ]
  },
  {
   "cell_type": "code",
   "execution_count": 36,
   "metadata": {
    "execution": {
     "iopub.execute_input": "2022-03-14T15:21:01.452835Z",
     "iopub.status.busy": "2022-03-14T15:21:01.452835Z",
     "iopub.status.idle": "2022-03-14T15:21:01.465180Z",
     "shell.execute_reply": "2022-03-14T15:21:01.464149Z"
    }
   },
   "outputs": [
    {
     "data": {
      "text/plain": [
       "['a', 'b', 'c', 40, 50, 60, 'moo']"
      ]
     },
     "execution_count": 36,
     "metadata": {},
     "output_type": "execute_result"
    }
   ],
   "source": [
    "my_list"
   ]
  }
 ],
 "metadata": {
  "jupytext": {
   "text_representation": {
    "extension": ".md",
    "format_name": "markdown",
    "format_version": "1.3",
    "jupytext_version": "1.13.6"
   }
  },
  "kernelspec": {
   "display_name": "Python 3",
   "language": "python",
   "name": "python3"
  },
  "language_info": {
   "codemirror_mode": {
    "name": "ipython",
    "version": 3
   },
   "file_extension": ".py",
   "mimetype": "text/x-python",
   "name": "python",
   "nbconvert_exporter": "python",
   "pygments_lexer": "ipython3",
   "version": "3.8.12"
  }
 },
 "nbformat": 4,
 "nbformat_minor": 4
}
