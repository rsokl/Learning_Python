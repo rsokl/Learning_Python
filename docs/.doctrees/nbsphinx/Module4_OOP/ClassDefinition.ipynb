{
 "cells": [
  {
   "cell_type": "raw",
   "metadata": {
    "lines_to_next_cell": 2,
    "raw_mimetype": "text/restructuredtext"
   },
   "source": [
    ".. meta::\n",
    "   :description: Topic: The rules for defining classes in python, Difficulty: Easy, Category: Section\n",
    "   :keywords: class definition, scope, class object, attribute, method"
   ]
  },
  {
   "cell_type": "markdown",
   "metadata": {},
   "source": [
    "# Defining a New Class of Object\n",
    "\n",
    "This section will introduce the basic syntax for defining a new class (a.k.a. type) of  Python object. Recall that the phrase `def` is used to denote the definition of a function. Similarly, `class` is used to denote the beginning of a class definition. The body of the class definition, which is the indented region below a `class` statement, is used to define the class' various **attributes**.\n",
    "\n",
    "The following defines a new class of object, named `MyGuy`, specifying four attributes `x`, `y`, `z`, and `f`\n",
    "\n",
    "```python\n",
    "# defining a new class/type of object\n",
    "class MyGuy:\n",
    "    x = 1 + 2\n",
    "    y = [2, 4, 6]\n",
    "    z = \"hi\"\n",
    "    \n",
    "    def f():\n",
    "        return 3\n",
    "\n",
    "# leaving the indented region ends the class definition\n",
    "```\n",
    "\n",
    "Once this definition for a new class of object is executed, you can proceed to reference that object in your code. Here, we will access the various attributes of `MyGuy`.\n",
    "\n",
    "```python\n",
    ">>> MyGuy.x\n",
    "3\n",
    "\n",
    ">>> MyGuy.y\n",
    "[2, 4, 6]\n",
    "\n",
    ">>> MyGuy.z\n",
    "\"hi\"\n",
    "\n",
    ">>> MyGuy.f\n",
    "<function __main__.MyGuy.f>\n",
    "```\n",
    "\n",
    "See that all of the attributes can be accessed using the \"dot\" syntax: `object.attribute_name`. The attribute `f` is a function, thus we can call it and it will evaluate as expected:\n",
    "\n",
    "```python\n",
    "# calling the attribute f\n",
    ">>> MyGuy.f()\n",
    "3\n",
    "```\n",
    "\n",
    "An object attribute that is also a function is referred to as a **method**. Thus `f` is a method of `MyGuy`.\n",
    "\n",
    "`MyGuy` is the singular class object that embodies our class definition. It is akin to `list`, `str`, and `int`. We will use `MyGuy` to create objects that are *instances* of our class, in the same way that `\"cat\"` is an instance of `str`. More on this soon. "
   ]
  },
  {
   "cell_type": "markdown",
   "metadata": {},
   "source": [
    "<div class=\"alert alert-info\">\n",
    "\n",
    "**Takeaway:**\n",
    "\n",
    "The `class` expression denotes the definition of a new class of object, which entails defining the attributes of that class. An attribute can \"bind\" to that class other Python objects (integers, strings, lists, etc), including functions. Attributes that are functions are called *methods*. The syntax `obj.attr` is the dot syntax for \"getting\" the attribute named `attr` from the object named `obj`.  \n",
    "\n",
    "</div>"
   ]
  },
  {
   "cell_type": "markdown",
   "metadata": {},
   "source": [
    "## The General Form of a Class Definition\n",
    "The general form for a class definition is simply a collection of attribute definitions, which either take the form of variable assignments or function definitions, resulting in the formation of a new class of object, with its attributes and methods:\n",
    "\n",
    "```python\n",
    "class ClassName:\n",
    "    \"\"\" class docstring \"\"\"\n",
    "    <statement-1>\n",
    "    .\n",
    "    .\n",
    "    .\n",
    "    <statement-N>\n",
    "```\n",
    "\n",
    "where each `<statement-j>` defines an attribute (e.g. `z = \"hi\"` defines the attribute `z`, or a function definition creates a method) for that class of object. \n",
    "\n",
    "Similar to function definitions, class definitions can contain effectively arbitrary Python code, and the definition has its own [scope](http://www.pythonlikeyoumeanit.com/Module2_EssentialsOfPython/Scope.html); however, *any* variables assigned within the class definition will be available as attributes. \n",
    "\n",
    "```python\n",
    "# Any variable assigned within a class definition becomes\n",
    "# available as an attribute for that class of object, even\n",
    "# a variable defined in a for-loop becomes an attribute of \n",
    "# that class.\n",
    "\n",
    "class Dummy:\n",
    "    cnt = 0\n",
    "    \n",
    "    for i in range(5, 11):\n",
    "        # i = 5\n",
    "        # i = 6\n",
    "        # ...\n",
    "        # i = 10\n",
    "        cnt += i\n",
    "    \n",
    "    # last iteration of loop assigns i = 10\n",
    "    # thus i is an attribute of Dummy with value 10\n",
    "```\n",
    "\n",
    "```python\n",
    ">>> Dummy.cnt  # cnt = 0 + 5 + 6 + 7 + 8 + 9 + 10\n",
    "45\n",
    "\n",
    ">>> Dummy.i\n",
    "10\n",
    "```"
   ]
  },
  {
   "cell_type": "markdown",
   "metadata": {},
   "source": [
    "<div class=\"alert alert-warning\">\n",
    "\n",
    "**Naming Classes of Objects:**\n",
    "\n",
    "The convention for naming a new class/type of object is to use \"camel-casing\". Thus if I wanted to call my class of objects \"pizza shop\", I would use the name `PizzaShop`. This is in contrast to variable names, function names, and *instances* of a class object (still to be introduced), where convention dictates the use of lower-case letters and underscores in place of spaces (snake-case).  \n",
    "\n",
    "</div>"
   ]
  },
  {
   "cell_type": "markdown",
   "metadata": {},
   "source": [
    "<div class=\"alert alert-info\">\n",
    "\n",
    "**Reading Comprehension: Create Your Own Class of Object**\n",
    "\n",
    "Create a definition for the class of object named `Dog`. This class should have two attributes: \"name\" and \"speak\". The \"name\" attribute should bind a string to the object (the name of the dog). The \"speak\" attribute should be a *method*, that takes a string as an input argument and returns that string with `\"*woof*\"` added to either end of it (e.g. `\"hello\"` -> `\"*woof* hello *woof*\"`)\n",
    "\n",
    "</div>"
   ]
  },
  {
   "cell_type": "markdown",
   "metadata": {},
   "source": [
    "## Working with Object Attributes\n",
    "Attempting to access an undefined attribute from an object will raise an `AttributeError`:\n",
    "\n",
    "```python\n",
    ">>> MyGuy.apple\n",
    "AttributeError: type object 'MyGuy' has no attribute 'apple'\n",
    "```\n",
    "\n",
    "We can use built-in function `hasattr` to inspect if an object possesses a particular attribute:\n",
    "\n",
    "```python\n",
    "# demonstrating `hasattr`\n",
    ">>> hasattr(MyGuy, \"apple\")  # MyGuy.apple is not defined\n",
    "False\n",
    "\n",
    ">>> hasattr(MyGuy, \"x\")      # MyGuy.x is defined\n",
    "True\n",
    "```\n",
    "\n",
    "In addition to using the dot-syntax for accessing attributes, the built-in function `getattr` can be used to the same effect:\n",
    "\n",
    "```python\n",
    "# demonstrating `getattr`\n",
    ">>> MyGuy.x\n",
    "3\n",
    "\n",
    ">>> getattr(MyGuy, \"x\")\n",
    "3\n",
    "```\n",
    "\n",
    "It may be surprising to discover that new attributes can be bound (or \"set\") to the object *after* that class of object has already been defined. This can be done using the builtin-function `setattr`:\n",
    "\n",
    "```python\n",
    "# use `setattr` to bind the attribute `apple` to `MyGuy` \n",
    ">>> hasattr(MyGuy, \"apple\")  # MyGuy.apple is not defined\n",
    "False\n",
    "\n",
    ">>> setattr(MyGuy, \"apple\", \"red\")\n",
    ">>> MyGuy.apple\n",
    "'red'\n",
    "```\n",
    "\n",
    "Attributes can be defined/set even less formally, using a simple assignment syntax:\n",
    "```python\n",
    ">>> hasattr(MyGuy, \"grape\")  # MyGuy.grape is not defined\n",
    "False\n",
    "\n",
    "# set the attribute `grape` to `MyGuy` \n",
    ">>> MyGuy.grape = \"purple\"  # define and set the attribute 'grape' \n",
    ">>> MyGuy.grape\n",
    "'purple'\n",
    "\n",
    ">>> MyGuy.x = -1  # set the attribute 'x' with a new value\n",
    ">>> MyGuy.x\n",
    "-1\n",
    "```\n",
    "\n",
    "It may seem like the class definition is reduced to a mere formality, since attributes can be set to an object at so casually. Although Python is known for permitting this loosey-goosey style of coding, know that it is generally bad form to create attributes for a class of object outside of its designated definition.  "
   ]
  },
  {
   "cell_type": "markdown",
   "metadata": {},
   "source": [
    "<div class=\"alert alert-info\">\n",
    "\n",
    "**Takeaway:**\n",
    "\n",
    "`hasattr`, `getattr`, and `setattr` are built-in functions that allow us to, by the name of an attribute, check to see if it exists, access its value, and set its value, respectively. Python's objects are shockingly flexible in that their attributes can be created outside of the formal space of the class definition. That being said, we should be civilized and treat the class definition as a formal contract/specification whenever possible.\n",
    "\n",
    "</div>"
   ]
  },
  {
   "cell_type": "markdown",
   "metadata": {},
   "source": [
    "## Links to Official Documentation\n",
    "\n",
    "- [Python Tutorial: Class Objects](https://docs.python.org/3/tutorial/classes.html#class-objects)"
   ]
  },
  {
   "cell_type": "markdown",
   "metadata": {},
   "source": [
    "## Reading Comprehension Solutions"
   ]
  },
  {
   "cell_type": "markdown",
   "metadata": {},
   "source": [
    "**Set Creation: Solution**\n",
    "    \n",
    "Create a definition for the class of object named `Dog`. This class should have two attributes: \"name\" and \"speak\". The \"name\" attribute should bind a string to the object (the name of the dog). The \"speak\" attribute should be a *method*, that takes a string as an input argument and returns that string with `\"*woof*\"` added to either end of it (e.g. `\"hello\"` -> `\"*woof* hello *woof*\"`)\n",
    "\n",
    "```python\n",
    "class Dog:\n",
    "    name = \"Charlie\"\n",
    "    \n",
    "    def speak(input_string):\n",
    "        return \"*woof* \" + input_string + \" *woof*\"\n",
    "```"
   ]
  }
 ],
 "metadata": {
  "jupytext": {
   "text_representation": {
    "extension": ".md",
    "format_name": "markdown",
    "format_version": "1.2",
    "jupytext_version": "1.3.0rc1"
   }
  },
  "kernelspec": {
   "display_name": "Python 3",
   "language": "python",
   "name": "python3"
  }
 },
 "nbformat": 4,
 "nbformat_minor": 4
}
