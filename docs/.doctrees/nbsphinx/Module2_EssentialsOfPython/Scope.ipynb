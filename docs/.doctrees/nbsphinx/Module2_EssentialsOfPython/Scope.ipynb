{
 "cells": [
  {
   "cell_type": "raw",
   "metadata": {
    "raw_mimetype": "text/restructuredtext"
   },
   "source": [
    ".. meta::\n",
    "   :description: Topic: variable score and namespaces in python, Difficulty: Medium, Category: Section\n",
    "   :keywords: variable, namespace, function, scope, shadowing"
   ]
  },
  {
   "cell_type": "markdown",
   "metadata": {},
   "source": [
    "# Scope"
   ]
  },
  {
   "cell_type": "markdown",
   "metadata": {},
   "source": [
    "A valuable aspect of the \"encapsulation\" provided by functions is that the function's input argument variables, and any variables defined within the function, cannot be \"seen\" nor accessed outside of the function. That is, these variables are said to have a restricted **scope**.\n",
    "\n",
    "<div class=\"alert alert-info\">\n",
    "\n",
    "**Definition**: \n",
    "\n",
    "The **scope** of a variable refers to the context in which that variable is visible/accessible to the Python interpreter.\n",
    "</div>\n",
    "\n",
    "Until our work with comprehension-statements and functions, we had only encountered variables that have **file scope**. This means that a variable, once defined, is visible to all parts of the code contained in the same file. Variables with file scope can even be accessed *within functions*. By contrast, the variables defined within a function or as input arguments to a function have a **restricted scope** - they can only be accessed within the context of the function:\n",
    "\n",
    "```python\n",
    "x = 3  # `x` has file scope. It can be even be accessed\n",
    "       # within a function, even if it isn't passed to\n",
    "       # the function as an argument\n",
    "\n",
    "# `my_func` has file scope (after it is defined)\n",
    "def my_func(y): \n",
    "    func_var = 9 + x  # `x` will have the value 3\n",
    "    # the scope of `y` and `func_var` is restricted to this function\n",
    "    return y\n",
    "\n",
    "# `func_var` and `y` do not exist here\n",
    "print(func_var)  # raises NameError: name `func_var` not defined\n",
    "print(y)         # raises NameError: name `y` not defined\n",
    "```\n",
    "\n",
    "Python's scoping rules are quite liberal compared to those of other languages, like C++. In most situations, Python will give variables file scope. Let's briefly survey the various contexts in which variables are defined, along with their corresponding scoping rules. Assume that the following code represents the entire contents of the Python script \"example_scope.py\":\n",
    "```python\n",
    "# this demonstrates scope of variables in different contexts\n",
    "# nothing meaningful is computed in this file\n",
    "\n",
    "from itertools import combinations  # `combinations` has file scope\n",
    " \n",
    "# `my_func` has file scope\n",
    "# `in_arg1` has restricted scope\n",
    "# `in_arg2` has restricted scope\n",
    "# `func_block` has restricted scope\n",
    "def my_func(in_arg1, in_arg2=\"cat\"):\n",
    "    func_block = 1\n",
    "    return None \n",
    "\n",
    "# `file_var` has file scope\n",
    "# `comp_var` has restricted scope\n",
    "file_var = [comp_var**2 for comp_var in [-1, -2]]\n",
    "\n",
    "# `if_block` has file scope\n",
    "if True:\n",
    "    if_block = 2\n",
    "else:\n",
    "    if_block = 3\n",
    "\n",
    "# `it_var` has file scope\n",
    "# `for_block` has file scope\n",
    "for it_var in [1, 2, 3]:\n",
    "    for_block = 1\n",
    "\n",
    "# `while_block` has file scope\n",
    "while True:\n",
    "    while_block = None\n",
    "    break\n",
    "```\n",
    "\n",
    "In the preceding code, the following variables have *file scope*:\n",
    "\n",
    "- `combinations`\n",
    "- `my_func`\n",
    "- `file_var`\n",
    "- `if_block`\n",
    "- `it_var`\n",
    "- `for_block`\n",
    "- `while_block`\n",
    "\n",
    "whereas the following variables have *restricted scope*:\n",
    "\n",
    "- `in_arg1`\n",
    "- `in_arg2`\n",
    "- `func_block`\n",
    "- `comp_var`"
   ]
  },
  {
   "cell_type": "markdown",
   "metadata": {},
   "source": [
    "In C++, the variables `if_block`, `it_var`, `for_block`, and `while_block` all would have had restricted scopes - these variables would not be defined outside of their respective if/for/while blocks.\n",
    "\n",
    "<div class=\"alert alert-info\">\n",
    "\n",
    "**Takeaway**: \n",
    "\n",
    "Variables defined within a function have a *restricted scope* such that they do not exist outside of that function. Most other contexts for defining variables in Python produce variables with *file scope* (i.e. they can be accessed anywhere in the file's code, subsequent to their definition). \n",
    "</div>"
   ]
  },
  {
   "cell_type": "markdown",
   "metadata": {},
   "source": [
    "## Variable Shadowing\n",
    "What happens when a file-scope variable and a function-scope variable share the same name? This type of circumstance is known as **variable shadowing**. Python resolves this by giving precedence to the variable *with the most restricted scope*, when inside that scope:\n",
    "\n",
    "```python\n",
    "x = 2\n",
    "y = 3\n",
    "\n",
    "def func(x):\n",
    "    # input-arg `x` overrides file-scope version of `x` \n",
    "    y = 5  # overrides file-scope version of `y`\n",
    "    return x + y\n",
    "\n",
    "# `x` is 2 here, once again\n",
    "# `y` is 3 here, once again\n",
    "\n",
    "print(func(-5))  # prints 0\n",
    "print(x, y)      # prints 2  3\n",
    "```\n",
    "\n",
    "and similarly,\n",
    "\n",
    "```python\n",
    "it = \"cow\"\n",
    "\n",
    "def func():\n",
    "    it = \"dog\" # overrides file-scope version of `it`\n",
    "    my_list = [it**2 for it in [1, 2, 3]]  # within the list comprehension, the func-scope `it` is overridden\n",
    "    # `it` is \"dog\" here, once again\n",
    "    return None\n",
    "\n",
    "# `it` is \"cow\" here, once again\n",
    "```"
   ]
  },
  {
   "cell_type": "markdown",
   "metadata": {},
   "source": [
    "## Links to Official Documentation\n",
    "\n",
    "- [Scopes and namespaces](https://docs.python.org/3/tutorial/classes.html#python-scopes-and-namespaces)\n",
    "- [Python's execution model](https://docs.python.org/3/reference/executionmodel.html)"
   ]
  }
 ],
 "metadata": {
  "jupytext": {
   "text_representation": {
    "extension": ".md",
    "format_name": "markdown",
    "format_version": "1.2",
    "jupytext_version": "1.3.0rc1"
   }
  },
  "kernelspec": {
   "display_name": "Python 3",
   "language": "python",
   "name": "python3"
  }
 },
 "nbformat": 4,
 "nbformat_minor": 4
}
