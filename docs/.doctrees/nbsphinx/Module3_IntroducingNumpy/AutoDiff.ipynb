{
 "cells": [
  {
   "cell_type": "raw",
   "metadata": {
    "raw_mimetype": "text/restructuredtext"
   },
   "source": [
    ".. meta::\n",
    "   :description: MyGrad is a library that provides drop-in automatic differentiation for NumPy"
   ]
  },
  {
   "cell_type": "markdown",
   "metadata": {},
   "source": [
    "<div class=\"alert alert-info\">\n",
    "\n",
    "**A Note to the Reader**:\n",
    "\n",
    "This section requires some basic familiarity with Calculus; the reader will be expected to know what it means to take the derivative of a function, and to have some familiarity with [Liebnitz notation](https://en.wikipedia.org/wiki/Leibniz%27s_notation) for representing derivatives.\n",
    "\n",
    "</div>"
   ]
  },
  {
   "cell_type": "markdown",
   "metadata": {},
   "source": [
    "# Automatic Differentiation"
   ]
  },
  {
   "cell_type": "markdown",
   "metadata": {
    "lines_to_next_cell": 2
   },
   "source": [
    "\n",
    "(Full disclosure: I created MyGrad, which we will be discussing here. Like PLYMI, MyGrad is a completely free and open-source educational resource.)\n",
    "\n",
    "This section is not about the essentials of NumPy, rather it is about a 3rd party library, [MyGrad](https://github.com/rsokl/MyGrad), that adds a new capability to NumPy. It adds automatic differentiation: the ability to algorithmically evaluate derivatives of functions.\n",
    "\n",
    "Automatic differentiation (a.k.a autodiff) is an important technology for scientific computing and machine learning, it enables us to measure rates of change (or \"cause and effect\") through our code via the derivatives of the mathematical functions that our code computes.\n",
    "Autodiff is proving to be so crucial to advancements in STEM-computing that it ought to be introduced to audiences early in their numerical computing journeys.\n",
    "This is the motivation for including this section in PLYMI's NumPy module.\n",
    "\n",
    "An automatic differentiation library provides its users with a suite of mathematical functions and tools that are specially designed: any mathematical computation that you perform with this library can be used to also compute the *derivatives* of that result. \n",
    "To help paint a picture of this, consider the following psuedocode where we use an autodiff library to compute $f(x) = \\sqrt{x}$ evaluated at $x=1$, as well as the derivative $\\mathrm{d}f/\\mathrm{d}x = 1/(2\\sqrt{x})$, also evaluated at $x=1$.\n",
    "\n",
    "```python\n",
    "# pseudocode illustrating autodiff in action\n",
    ">>> from autodiff_libray import sqrt, derivative\n",
    "\n",
    ">>> x = 1.0\n",
    ">>> f = sqrt(x)\n",
    ">>> df_dx = derivative(f, x)\n",
    "\n",
    ">>> f, df_dx\n",
    "(1.0, 0.5)\n",
    "```\n",
    "\n",
    "See that we did not need to know or derive the fact that $\\mathrm{d}f/\\mathrm{d}x = 1/(2\\sqrt{x})$ -- the autodiff library does this for us!\n",
    "This is what sets `autodiff_libray.sqrt` apart from `math.sqrt` from Python's standard library.\n",
    "\n",
    "\n",
    "Presently, some of the most popular Python-centric autodiff libraries include [PyTorch](https://pytorch.org/), [TensorFlow](https://www.tensorflow.org/), and [JAX](https://jax.readthedocs.io/en/latest/jax.numpy.html). Among these \"industrial-grade\" autodiff libraries, JAX strives provide the most NumPy-like experience. [MyGrad](https://github.com/rsokl/MyGrad) takes this one step further, and provides true drop-in automatic differentiation to NumPy.\n"
   ]
  },
  {
   "cell_type": "markdown",
   "metadata": {},
   "source": [
    "## Introduction to MyGrad"
   ]
  },
  {
   "cell_type": "markdown",
   "metadata": {},
   "source": [
    "\n",
    "Install MyGrad into your Python environment. Open your terminal, activate your desired Python environment, and run the following command.\n",
    "\n",
    "```shell\n",
    "pip install mygrad\n",
    "```\n",
    "\n",
    "\n",
    "Let's jump right in with a simple example of using MyGrad to evaluate the derivative of a function at a specific point. \n",
    "We'll take our function to be $f(x)=x^2$, and compute its instantaneous slope at $x=5$, i.e. $\\frac{\\mathrm{d}f}{\\mathrm{d}x}\\big|_{x=5}$.\n",
    "The derivative of this function is $\\frac{\\mathrm{d}f}{\\mathrm{d}x}=2x$, thus $\\frac{\\mathrm{d}f}{\\mathrm{d}x}\\big|_{x=5} = 10$.\n",
    "Let's reproduce this result via auto-differentiation using MyGrad.\n",
    "\n",
    "We begin by creating a `mygrad.Tensor`. \n",
    "This is MyGrad's analog to [numpy's ndarray](https://www.pythonlikeyoumeanit.com/Module3_IntroducingNumpy/IntroducingTheNDarray.html). \n",
    "[MyGrad's tensor](https://mygrad.readthedocs.io/en/latest/tensor.html) behaves just like  NumPy's array in just about every way that you can think of, e.g. it supports multi-dimensional indexing, reshaping, and vectorized operations with broadcasting semantics, but it is also capable of facilitating automatic differentiation.\n",
    "This tensor will *store the point(s) at which we wish to evaluate our function and its derivative*.\n",
    "\n",
    "```python\n",
    "# `mygrad.Tensor` behaves like `numpy.array` but it supports auto-diff\n",
    ">>> import mygrad as mg\n",
    ">>> x = mg.tensor(5.0)\n",
    ">>> x\n",
    "Tensor(5.0)\n",
    "```\n",
    "\n",
    "We can then pass this tensor directly into NumPy's mathematical functions.\n",
    "In this example, our function is $f(x)=x^2$.\n",
    "We can compute this just as we would with NumPy: either with `x ** 2` or with `numpy.square(x)`.\n",
    "\n",
    "```python\n",
    "# evaluating f(5)\n",
    ">>> fx = x ** 2\n",
    ">>> fx\n",
    "Tensor(25.0)\n",
    "```\n",
    "\n",
    "`fx` stores the value of our function -- as a `Tensor` -- at the given evaluation points, which in this case is $f(5)=5^2=25$.\n",
    "\n",
    "Now we can use MyGrad to evaluate the derivative of $f(x)$ at $x=5$.\n",
    "Invoking `fx.backward()` instructs MyGrad to evaluate the derivative of `fx` *for each variable that* `fx` *depends on* -- the derivatives of multivariable functions can also be computed.\n",
    "In this case, $x$ is the only such variable.\n",
    "\n",
    "```python\n",
    "# trigger auto-differentiation of `fx` with respect to\n",
    "# all of the variables that it depends on\n",
    ">>> fx.backward()\n",
    "```\n",
    "\n",
    "The value of $\\frac{\\mathrm{d}f}{\\mathrm{d}x}\\big|_{x=5}$ is stored in the attribute `x.grad`.\n",
    "\n",
    "```python\n",
    "# accessing df/dx @ x=5\n",
    ">>> x.grad\n",
    "array(10.)\n",
    "```\n",
    "As expected, MyGrad computes the appropriate value for the evaluated derivative: $\\frac{\\mathrm{d}f}{\\mathrm{d}x}\\big|_{x=5}=2 \\times 5=10$.\n",
    "Note that all `Tensor` instances have a `grad` attribute, but prior to invoking `fx.backward()`, `x.grad` would have simply returned `None`.\n"
   ]
  },
  {
   "cell_type": "markdown",
   "metadata": {},
   "source": [
    "It is important to reiterate that MyGrad *never gives us the actual function* $\\frac{\\mathrm{d}f}{\\mathrm{d}x}$; it only computes the derivative evaluated at a specific input $x=10$."
   ]
  },
  {
   "cell_type": "markdown",
   "metadata": {},
   "source": [
    "### MyGrad Adds \"Drop-In\" AutoDiff to NumPy\n"
   ]
  },
  {
   "cell_type": "markdown",
   "metadata": {},
   "source": [
    "\n",
    "MyGrad's functions are intentionally designed to mirror NumPy's functions almost exactly.\n",
    "In fact, for all of the NumPy functions that MyGrad mirrors, we can pass a tensor to a NumPy function and it will be \"coerced\" into returning a tensor instead of a NumPy array – thus we can differentiate through NumPy functions!\n",
    "\n",
    "```python\n",
    "# showing off \"drop-in\" autodiff through NumPy functions\n",
    ">>> import numpy as np\n",
    "\n",
    ">>> x = mg.tensor(3.0)\n",
    ">>> y = np.square(x)  # note that we are using a numpy function here!\n",
    ">>> y  # y is a tensor, not a numpy array\n",
    "Tensor(9.)\n",
    "\n",
    ">>> y.backward()  # compute derivatives of y\n",
    ">>> x.grad  # stores dy/dx @ x=3\n",
    "array(6.)\n",
    "```"
   ]
  },
  {
   "cell_type": "markdown",
   "metadata": {
    "lines_to_next_cell": 2
   },
   "source": [
    "How does this work?\n",
    "MyGrad's tensor is able to [tell NumPy's function to actually call a MyGrad function](https://numpy.org/neps/nep-0018-array-function-protocol.html).\n",
    "That is, the expression\n",
    "\n",
    "```python\n",
    "np.square(a_mygrad_tensor)\n",
    "```\n",
    "\n",
    "*actually* calls\n",
    "\n",
    "```python\n",
    "mg.square(a_mygrad_tensor)\n",
    "```\n",
    "\n",
    "under the hood.\n",
    "Not only is this convenient, but it also means that you can take a complex function that is written in terms of numpy functions and pass a tensor through it so that you can differentiate that function!\n",
    "\n",
    "```python\n",
    "from some_library import complicated_numpy_function\n",
    "x = mg.tensor(...)\n",
    "out_tensor = complicated_numpy_function(x)\n",
    "out_tensor.backward() # compute d(complicated_numpy_function) / dx !\n",
    "```"
   ]
  },
  {
   "cell_type": "markdown",
   "metadata": {},
   "source": [
    "## Vectorized Auto-Differentiation"
   ]
  },
  {
   "cell_type": "markdown",
   "metadata": {},
   "source": [
    "Like NumPy's array, MyGrad's tensor supports [vectorized operations](https://www.pythonlikeyoumeanit.com/Module3_IntroducingNumpy/VectorizedOperations.html), allowing us to evaluate the derivative of a function at multiple points simultaneously.\n",
    "Let's again take the function $f(x)=x^2$, which has the derivative $\\frac{\\mathrm{d}f}{\\mathrm{d}x}=2x$.\n",
    "Now, instead of passing in a single number to `Tensor`, we can pass in a list of values corresponding to all the points at which we want the compute the derivative.\n",
    "We can then find the instantaneous slope of our function at these points, just as before. First we will pass `x` into our function of interest, namely $f(x)=x^2$.\n",
    "\n",
    "```python\n",
    "# using vectorized operations to evaluate a function\n",
    "# at multiple locations\n",
    ">>> x = mg.tensor([2.0, -4.0, 1.0, 3.0])\n",
    ">>> fx = x ** 2\n",
    ">>> fx\n",
    "Tensor([ 4., 16.,  1.,  9.])\n",
    "```\n",
    "\n",
    "Here MyGrad vectorizes the operation, performing it element-wise:\n",
    "\n",
    "\\begin{equation}\n",
    "f\\big([2,\\, -4,\\, 1,\\, 3]\\big) =  \\big[f(2),\\, f(-4),\\, f(1),\\, f(3)\\big].\n",
    "\\end{equation}\n",
    "\n",
    "We can elegantly exploit this vectorization to find the derivative of $f(x)$ evaluated at each point in `x` by invoking `fx.backward()`.\n",
    "This will trigger the vectorized computation\n",
    "\n",
    "\\begin{equation}\n",
    "\\bigg[\\frac{\\mathrm{d}f}{\\mathrm{d}x}\\bigg|_{x=2},\\: \\frac{\\mathrm{d}f}{\\mathrm{d}x}\\bigg|_{x=-4},\\: \\frac{\\mathrm{d}f}{\\mathrm{d}x}\\bigg|_{x=1},\\: \\frac{\\mathrm{d}f}{\\mathrm{d}x}\\bigg|_{x=3} \\bigg],\n",
    "\\end{equation}\n",
    "\n",
    "which will be stored in `x.grad`.\n",
    "It is important to recognize that `x.grad[i]` stores the derivative of `fx` evaluated at `x[i]`.\n",
    "\n",
    "```python\n",
    "# Trigger vectorized auto-differentiation\n",
    "# Computes the instantaneous slope of\n",
    "# f(x) = x ** 2 at 2, 4, 1, and 3\n",
    ">>> fx.backward()\n",
    ">>> x.grad # df/dx @ x = 2, -4, 1, and 3, respectively\n",
    "array([ 4., -8.,  2.,  6.])\n",
    "```\n",
    "\n",
    "As expected, MyGrad finds the appropriate value for the derivative evaluated at each respective element in `x`."
   ]
  },
  {
   "cell_type": "markdown",
   "metadata": {},
   "source": [
    "<div class=\"alert alert-info\">"
   ]
  },
  {
   "cell_type": "markdown",
   "metadata": {},
   "source": [
    "## Visualizing the Derivative\n",
    "\n",
    "The following code block demonstrates how easy it is to visualize a function's derivative by using MyGrad.\n",
    "Note MyGrad's `Tensor` stores a NumPy-array of its data, which can be accessed via the `.data` attribute.\n",
    "Any time a library needs to be passed a NumPy array, you can access this array from a tensor through this attribute.\n",
    "\n",
    "Study the plot displayed below: notice that the derivative is always $0$ when the function has a horizontal slope, and that the derivative takes on a positive value wherever the parent function has a positive slope. "
   ]
  },
  {
   "cell_type": "code",
   "execution_count": 1,
   "metadata": {
    "execution": {
     "iopub.execute_input": "2022-03-14T15:21:25.599379Z",
     "iopub.status.busy": "2022-03-14T15:21:25.598375Z",
     "iopub.status.idle": "2022-03-14T15:21:26.249536Z",
     "shell.execute_reply": "2022-03-14T15:21:26.248536Z"
    }
   },
   "outputs": [
    {
     "data": {
      "image/png": "[encoded data removed]",
      "text/plain": [
       "<Figure size 432x288 with 1 Axes>"
      ]
     },
     "metadata": {
      "needs_background": "light"
     },
     "output_type": "display_data"
    }
   ],
   "source": [
    "import mygrad as mg\n",
    "import numpy as np\n",
    "import matplotlib.pyplot as plt\n",
    "%matplotlib inline\n",
    "\n",
    "def f(x):\n",
    "    return np.sin(2 * x) * np.cos(x) * np.exp(-x / 3) * 100\n",
    "\n",
    "def plot_func_and_deriv(x, func):\n",
    "    fig, ax = plt.subplots()\n",
    "    \n",
    "    x = mg.tensor(x)\n",
    "    y = func(x)  # compute f(x)\n",
    "    y.backward() # compute df/dx\n",
    "    \n",
    "    # plot f(x) vs x\n",
    "    ax.plot(x.data, y.data, label=\"f(x)\")\n",
    "    \n",
    "    # plot df/dx vs x\n",
    "    ax.plot(x.data, x.grad, ls=\"--\", label=\"df/dx\")\n",
    "    ax.grid(True)\n",
    "    ax.legend()\n",
    "    return fig, ax\n",
    "\n",
    "# We will plot f(x) and df/dx on the domain\n",
    "# [0, 10] using 10,000 evenly-spaced points \n",
    "x = mg.linspace(0, 10, 10000)\n",
    "\n",
    "plot_func_and_deriv(x, f);"
   ]
  },
  {
   "cell_type": "markdown",
   "metadata": {},
   "source": [
    "## Seek and Derive"
   ]
  },
  {
   "cell_type": "markdown",
   "metadata": {},
   "source": [
    "Computers equipped with automatic differentiation libraries can make short work of derivatives that are well-beyond the reach of mere mortals.\n",
    "Take the pathological function\n",
    "\\begin{equation}\n",
    "f(x)=e^{(\\arctan(82x^3+\\ln(x)))}\\sqrt{25x^{\\frac{1}{22930}}+39e^{\\frac{2}{x}}-\\sin(x)},\n",
    "\\end{equation}\n",
    "\n",
    "the derivative of which would be miserable to do by hand.\n",
    "Thankfully we can have MyGrad compute the derivative at a collection of points for us, just as we did before.\n",
    "\n",
    "```python\n",
    "# Tensor containing the values x = 1, 2, ..., 10\n",
    ">>> x = mg.arange(1.0, 11.0)\n",
    "\n",
    "# Evaluated function at points x = 1, 2, ..., 10\n",
    ">>> fx = np.exp(np.arctan(82 * x ** 3 + np.log(x)))\n",
    ">>> fx *= np.sqrt(25 * x ** (1 / 22930) + 39 * np.exp(2 / x) - np.sin(x))\n",
    "\n",
    ">>> fx.backward()\n",
    "\n",
    ">>> x.grad  # df/dx evaluated at x = 1, 2, ..., 10\n",
    "array([-7.44764313e+01, -1.09475963e+01, -3.78281290e+00, -1.86451297e+00,\n",
    "       -1.29207692e+00, -1.07197583e+00, -7.90459238e-01, -3.96212428e-01,\n",
    "       -8.16203127e-02, -3.17648949e-02])\n",
    "```\n",
    "\n",
    "Even though it would be a pain to differentiate $f(x)$ by hand, MyGrad can handle taking the derivative with no problems.\n",
    "To find the derivative of a complex function, we simply must chain together the relevant functions and sit back – MyGrad will handle the rest.\n",
    "It accomplishes this feat by dutifully applying the chain rule over and over, using a simple algorithm called \"back-propagation\".\n",
    "The authors of MyGrad had to write down the symbolic derivative for each elementary function (e.g., $e^x$, $\\sqrt{x}$, $\\arctan(x)$, etc.), but MyGrad's code is responsible for systematically carrying out the chain rule to evaluate derivatives of arbitrarily-complex compositions of these functions."
   ]
  },
  {
   "cell_type": "markdown",
   "metadata": {},
   "source": [
    "<div class=\"alert alert-info\">\n",
    "\n",
    "**Reading Comprehension: Auto-differentiation**:\n",
    "    \n",
    "Using MyGrad, compute the derivatives of the following functions.\n",
    "Have MyGrad evaluate the derivatives on the interval $[-2,4]$ at $30$ evenly spaced points using `mygrad.linspace`.\n",
    "Additionally, plot these functions and their derivatives on the same domains, but using more densely-spaced points \n",
    "    \n",
    "* $f(x)=\\frac{e^x}{e^x+1}$\n",
    "* $f(x)=e^{-\\frac{(x-1)^2}{10}}$\n",
    "* $f(x)=\\frac{\\sin(x)}{x}-x^2$\n",
    "* $f(x)=9\\sqrt{1+\\frac{x^2}{9}}-9$\n",
    "\n",
    "</div>"
   ]
  },
  {
   "cell_type": "markdown",
   "metadata": {
    "lines_to_next_cell": 0
   },
   "source": [
    "## Applying Automatic Differentiation: Solving Optimization Problems"
   ]
  },
  {
   "cell_type": "markdown",
   "metadata": {},
   "source": [
    "\n",
    "We are now familiar with what automatic differentiation is and what it does, but *why* is it so useful?\n",
    "One of the \"killer applications\" of autodiff libraries is that they help us solve challenging numerical optimization problems.\n",
    "These problems often read as: suppose we have some bounded, finite function $f(x)$; find the value of $x$ that *minimizes* $f(x)$.\n",
    "That is, the \"optimum\" that we want to find is the value $x_\\mathrm{min}$ such that $f(x_\\mathrm{min}) \\leq f(x)$ for all other $x$.\n",
    "\n",
    "\n",
    "How does automatic differentiation help us to solve such a problem? The derivative of a function evaluated at some $x_o$ tells us the slope of the function -- whether it is decreasing or increasing -- at $x_o$.\n",
    "This is certainly useful information for helping us search for $x_\\mathrm{min}$: always look in the direction of decreasing slope, until the slope goes to $0$.\n",
    "\n",
    "We start our search for $x_{\\mathrm{min}}$ by picking a random starting for value for $x_o$, use the autodiff library to compute $\\frac{\\mathrm{d}f}{\\mathrm{d}x}\\big|_{x=x_{o}}$ and then use that information to \"step\" $x_o$ in the direction that \"descends\" $f(x)$. We repeat this process until we see that $\\frac{\\mathrm{d}f}{\\mathrm{d}x}\\big|_{x=x_{o}} \\approx 0$.\n",
    "It must be noted that this approach towards finding $x_\\mathrm{min}$ is highly limited; saddle-points can stop us in our tracks, and we will only be able to find *local* minima with this strategy. Nonetheless, it is still very useful!\n",
    "\n",
    "Let's take a simple example.\n",
    "We'll choose the function $f(x) = (x-8)^2$ and the starting point $x=-1.5$.\n",
    "As we search for $x_\\mathrm{min}$ we don't want to make our updates to $x_o$\n",
    "too big, so we will scale our updates by a factor of $3/10$ (the value of which is chosen somewhat haphazardly here).\n",
    "\n",
    "```python\n",
    "# Performing gradient descent on f(x) = (x - 8) ** 2\n",
    "x = mg.Tensor(-1.5)\n",
    "step_scale = 0.3\n",
    "num_steps = 10\n",
    "print(x)\n",
    "\n",
    "for step_cnt in range(num_steps):\n",
    "    f = (x - 8.0) ** 2  # evaluate f(xo)\n",
    "    f.backward()  # compute df/dx @ xo\n",
    "    x = x - step_scale * x.grad  # update xo in direction opposite of df/dx @ xo\n",
    "    print(x)\n",
    "```\n",
    "```\n",
    "Tensor(-1.5)\n",
    "Tensor(4.2)\n",
    "Tensor(6.48)\n",
    "Tensor(7.392)\n",
    "Tensor(7.7568)\n",
    "Tensor(7.90272)\n",
    "Tensor(7.961088)\n",
    "Tensor(7.9844352)\n",
    "Tensor(7.99377408)\n",
    "Tensor(7.99750963)\n",
    "Tensor(7.99900385)\n",
    "```\n",
    "\n",
    "Success! Our autodiff-driven optimization algorithm successfully guides us near the minimum $x_\\mathrm{min}=8$.\n",
    "\n",
    "This simple algorithm is known as [gradient descent](https://en.wikipedia.org/wiki/Gradient_descent) (a gradient is a collection of derivatives for a multi-variable function), and it is a powerful technique for finding local minima in differentiable functions.\n",
    "As we saw in the preceding section, autodiff libraries enable use to search for local optima of *very* complex functions, and we can often work with functions that will depend on *hundreds, thousands, or even many millions of variables*.\n",
    "In such cases, we have no hope of simply plotting the function and literally looking for the minimum, nor do we have any chance of writing down the function's derivative by hand.\n",
    "Fortunately, we have autodiff and gradient descent in our toolkit.\n",
    "\n",
    "For those who have heard of neural networks and deep learning: autodiff libraries, used in conjunction with gradient descent, is how we often \"teach\" a neural network to perform a task. We use gradient descent to find the optimal parameter values of the neural network; the values are found such that they *minimize the average number of mistakes* the neural makes when performing training tasks.\n",
    "\n",
    "This section has just scratched the surface of automatic differentiation. Reading about the different algorithms for performing automatic differentiation ([forward-mode differentation, back-propagation, and beyond](https://en.wikipedia.org/wiki/Automatic_differentiation#The_chain_rule,_forward_and_reverse_accumulation)), about computing higher-order derivatives, and about the [interesting advances in programming languages' approaches to automatic differentiation](https://fluxml.ai/blog/2019/02/07/what-is-differentiable-programming.html) are all fascinating and worthwhile endeavors. \n",
    "If you plan to take a course in differential calculus soon, see if you can incorporate autodiff into your coursework!\n"
   ]
  },
  {
   "cell_type": "markdown",
   "metadata": {},
   "source": [
    "## Reading Comprehension Exercise Solutions"
   ]
  },
  {
   "cell_type": "markdown",
   "metadata": {},
   "source": [
    "**Auto-differentiation: Solution**"
   ]
  },
  {
   "cell_type": "code",
   "execution_count": 2,
   "metadata": {
    "execution": {
     "iopub.execute_input": "2022-03-14T15:21:26.252505Z",
     "iopub.status.busy": "2022-03-14T15:21:26.252505Z",
     "iopub.status.idle": "2022-03-14T15:21:26.265532Z",
     "shell.execute_reply": "2022-03-14T15:21:26.264507Z"
    }
   },
   "outputs": [
    {
     "data": {
      "text/plain": [
       "array([0.10499359, 0.12233146, 0.14104602, 0.16067062, 0.18052503,\n",
       "       0.19972311, 0.21721938, 0.2319002 , 0.24271321, 0.2488147 ,\n",
       "       0.24970297, 0.24530344, 0.23598166, 0.22248044, 0.20579899,\n",
       "       0.18704635, 0.167303  , 0.14751557, 0.12843546, 0.11059942,\n",
       "       0.09434168, 0.07982542, 0.0670819 , 0.05604927, 0.04660642,\n",
       "       0.03859972, 0.03186277, 0.02622978, 0.02154407, 0.01766271])"
      ]
     },
     "execution_count": 2,
     "metadata": {},
     "output_type": "execute_result"
    }
   ],
   "source": [
    "def f(x):\n",
    "    return mg.exp(x) / (mg.exp(x) + 1)\n",
    "\n",
    "\n",
    "x = mg.linspace(-2, 4, 30)\n",
    "fx = f(x)\n",
    "fx.backward()\n",
    "x.grad"
   ]
  },
  {
   "cell_type": "code",
   "execution_count": 3,
   "metadata": {
    "execution": {
     "iopub.execute_input": "2022-03-14T15:21:26.281507Z",
     "iopub.status.busy": "2022-03-14T15:21:26.267507Z",
     "iopub.status.idle": "2022-03-14T15:21:26.409507Z",
     "shell.execute_reply": "2022-03-14T15:21:26.408506Z"
    }
   },
   "outputs": [
    {
     "data": {
      "image/png": "[encoded data removed]",
      "text/plain": [
       "<Figure size 432x288 with 1 Axes>"
      ]
     },
     "metadata": {
      "needs_background": "light"
     },
     "output_type": "display_data"
    }
   ],
   "source": [
    "plot_func_and_deriv(mg.linspace(-2, 4, 1000), f);"
   ]
  },
  {
   "cell_type": "code",
   "execution_count": 4,
   "metadata": {
    "execution": {
     "iopub.execute_input": "2022-03-14T15:21:26.412534Z",
     "iopub.status.busy": "2022-03-14T15:21:26.412534Z",
     "iopub.status.idle": "2022-03-14T15:21:26.424506Z",
     "shell.execute_reply": "2022-03-14T15:21:26.424506Z"
    }
   },
   "outputs": [
    {
     "data": {
      "text/plain": [
       "array([ 0.2439418 ,  0.25603855,  0.2649823 ,  0.27016051,  0.2710269 ,\n",
       "        0.26713309,  0.25815818,  0.24393438,  0.22446663,  0.19994461,\n",
       "        0.1707458 ,  0.13742886,  0.10071733,  0.06147402,  0.02066753,\n",
       "       -0.02066753, -0.06147402, -0.10071733, -0.13742886, -0.1707458 ,\n",
       "       -0.19994461, -0.22446663, -0.24393438, -0.25815818, -0.26713309,\n",
       "       -0.2710269 , -0.27016051, -0.2649823 , -0.25603855, -0.2439418 ])"
      ]
     },
     "execution_count": 4,
     "metadata": {},
     "output_type": "execute_result"
    }
   ],
   "source": [
    "def f(x):\n",
    "    return mg.exp(-(x - 1) ** 2 / 10)\n",
    "\n",
    "\n",
    "x = mg.linspace(-2, 4, 30)\n",
    "fx = f(x)\n",
    "fx.backward()\n",
    "x.grad"
   ]
  },
  {
   "cell_type": "code",
   "execution_count": 5,
   "metadata": {
    "execution": {
     "iopub.execute_input": "2022-03-14T15:21:26.427504Z",
     "iopub.status.busy": "2022-03-14T15:21:26.427504Z",
     "iopub.status.idle": "2022-03-14T15:21:26.598506Z",
     "shell.execute_reply": "2022-03-14T15:21:26.598506Z"
    }
   },
   "outputs": [
    {
     "data": {
      "image/png": "[encoded data removed]",
      "text/plain": [
       "<Figure size 432x288 with 1 Axes>"
      ]
     },
     "metadata": {
      "needs_background": "light"
     },
     "output_type": "display_data"
    }
   ],
   "source": [
    "plot_func_and_deriv(mg.linspace(-2, 4, 1000), f);"
   ]
  },
  {
   "cell_type": "code",
   "execution_count": 6,
   "metadata": {
    "execution": {
     "iopub.execute_input": "2022-03-14T15:21:26.603532Z",
     "iopub.status.busy": "2022-03-14T15:21:26.601534Z",
     "iopub.status.idle": "2022-03-14T15:21:26.614506Z",
     "shell.execute_reply": "2022-03-14T15:21:26.614506Z"
    }
   },
   "outputs": [
    {
     "data": {
      "text/plain": [
       "array([ 3.5       ,  3.08231909,  2.88185434,  2.87154224,  2.9562879 ,\n",
       "        2.99759486,  2.85459947,  2.42860038,  1.69642019,  0.72117344,\n",
       "       -0.36375522, -1.39291332, -2.21717854, -2.74695958, -2.97654586,\n",
       "       -2.98223402, -2.89552134, -2.86072901, -2.99117993, -3.3379685 ,\n",
       "       -3.88059233, -4.54104218, -5.21509113, -5.80917978, -6.27018042,\n",
       "       -6.59861798, -6.84225739, -7.07396645, -7.36293903, -7.75      ])"
      ]
     },
     "execution_count": 6,
     "metadata": {},
     "output_type": "execute_result"
    }
   ],
   "source": [
    "def f(x):\n",
    "    return mg.sinc(x) - x ** 2\n",
    "\n",
    "\n",
    "x = mg.linspace(-2, 4, 30)\n",
    "fx = f(x)\n",
    "fx.backward()\n",
    "x.grad"
   ]
  },
  {
   "cell_type": "code",
   "execution_count": 7,
   "metadata": {
    "execution": {
     "iopub.execute_input": "2022-03-14T15:21:26.617508Z",
     "iopub.status.busy": "2022-03-14T15:21:26.617508Z",
     "iopub.status.idle": "2022-03-14T15:21:26.774532Z",
     "shell.execute_reply": "2022-03-14T15:21:26.773507Z"
    }
   },
   "outputs": [
    {
     "data": {
      "image/png": "[encoded data removed]",
      "text/plain": [
       "<Figure size 432x288 with 1 Axes>"
      ]
     },
     "metadata": {
      "needs_background": "light"
     },
     "output_type": "display_data"
    }
   ],
   "source": [
    "plot_func_and_deriv(mg.linspace(-2, 4, 1000), f);"
   ]
  },
  {
   "cell_type": "code",
   "execution_count": 8,
   "metadata": {
    "execution": {
     "iopub.execute_input": "2022-03-14T15:21:26.777533Z",
     "iopub.status.busy": "2022-03-14T15:21:26.776526Z",
     "iopub.status.idle": "2022-03-14T15:21:26.788506Z",
     "shell.execute_reply": "2022-03-14T15:21:26.788506Z"
    }
   },
   "outputs": [
    {
     "data": {
      "text/plain": [
       "array([-1.66410059, -1.53913231, -1.40226235, -1.25319963, -1.09198696,\n",
       "       -0.91909001, -0.73547021, -0.54262408, -0.34257202, -0.13778548,\n",
       "        0.0689473 ,  0.27470313,  0.47662691,  0.6721239 ,  0.85901208,\n",
       "        1.03561618,  1.20079858,  1.35393517,  1.49485163,  1.62373797,\n",
       "        1.74105718,  1.8474593 ,  1.9437076 ,  2.03061964,  2.10902314,\n",
       "        2.1797249 ,  2.24349055,  2.30103263,  2.35300473,  2.4       ])"
      ]
     },
     "execution_count": 8,
     "metadata": {},
     "output_type": "execute_result"
    }
   ],
   "source": [
    "def f(x):\n",
    "    return 9 * mg.sqrt(1 + x ** 2 / 9) - 9\n",
    "\n",
    "\n",
    "x = mg.linspace(-2, 4, 30)\n",
    "fx = f(x)\n",
    "fx.backward()\n",
    "x.grad"
   ]
  },
  {
   "cell_type": "code",
   "execution_count": 9,
   "metadata": {
    "execution": {
     "iopub.execute_input": "2022-03-14T15:21:26.805505Z",
     "iopub.status.busy": "2022-03-14T15:21:26.791506Z",
     "iopub.status.idle": "2022-03-14T15:21:26.947507Z",
     "shell.execute_reply": "2022-03-14T15:21:26.946507Z"
    }
   },
   "outputs": [
    {
     "data": {
      "image/png": "[encoded data removed]",
      "text/plain": [
       "<Figure size 432x288 with 1 Axes>"
      ]
     },
     "metadata": {
      "needs_background": "light"
     },
     "output_type": "display_data"
    }
   ],
   "source": [
    "plot_func_and_deriv(mg.linspace(-2, 4, 1000), f);"
   ]
  }
 ],
 "metadata": {
  "jupytext": {
   "text_representation": {
    "extension": ".md",
    "format_name": "markdown",
    "format_version": "1.3",
    "jupytext_version": "1.13.6"
   }
  },
  "kernelspec": {
   "display_name": "Python 3",
   "language": "python",
   "name": "python3"
  },
  "language_info": {
   "codemirror_mode": {
    "name": "ipython",
    "version": 3
   },
   "file_extension": ".py",
   "mimetype": "text/x-python",
   "name": "python",
   "nbconvert_exporter": "python",
   "pygments_lexer": "ipython3",
   "version": "3.8.12"
  }
 },
 "nbformat": 4,
 "nbformat_minor": 4
}
