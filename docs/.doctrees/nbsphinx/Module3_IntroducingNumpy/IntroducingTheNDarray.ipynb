{
 "cells": [
  {
   "cell_type": "raw",
   "metadata": {
    "raw_mimetype": "text/restructuredtext"
   },
   "source": [
    ".. meta::\n",
    "   :description: Topic: Introduction to numpy arrays, Difficulty: Easy, Category: Section\n",
    "   :keywords: numpy array, ndarray, introduction, overview"
   ]
  },
  {
   "cell_type": "markdown",
   "metadata": {},
   "source": [
    "# Introducing the ND-array\n",
    "It is time to start familiarizing ourselves with NumPy, the premiere library for doing numerical work in Python. To use this package, we need to be sure to \"import\" the NumPy module into our code:\n",
    "\n",
    "```python\n",
    "import numpy as np\n",
    "```\n",
    "\n",
    "You could have run `import numpy` instead, but the prescribed method allows us to use the abbreviation 'np' throughout our code, instead of having to write 'numpy'. This is a very common  abbreviation to use.\n",
    "\n",
    "The ND-array (N-dimensional array) is the star of the show for NumPy. This array simply stores a sequence of numbers. Like a Python list, you can access individual entries in this array by \"indexing\" into the array, and you can access a sub-sequence of the array by \"slicing\" it. So what distinguishes NumPy's ND-array from a Python list, and why is there a whole numerical library that revolves around this array? There are two major features that makes the ND-array special. It can:\n",
    "\n",
    " 1. Provide an interface for its underlying data to be accessed along multiple dimensions.\n",
    " 2. Rapidly perform mathematical operations over all of its elements, or over patterned subsequences of its elements, using compiled C code instead of Python; this is a process called vectorization.\n",
    " \n",
    "Let's take a sneak peek to see what this module has in store. The following code creates an ND-array containing the numbers 0-8:\n",
    "\n",
    "```python\n",
    ">>> import numpy as np\n",
    ">>> x = np.array([0, 1, 2, 3, 4, 5, 6, 7, 8])\n",
    "```\n",
    "\n",
    "This object belongs to the NumPy-defined type `numpy.ndarray`.\n",
    "\n",
    "```python\n",
    "# An ND-array belongs to the type `numpy.ndarray`\n",
    ">>> type(x)\n",
    "numpy.ndarray\n",
    "\n",
    ">>> isinstance(x, np.ndarray)\n",
    "True\n",
    "```"
   ]
  },
  {
   "cell_type": "markdown",
   "metadata": {},
   "source": [
    "We can \"reshape\" this array so that its contents can be accessed along 2 dimensions:\n",
    "```python\n",
    ">>> x = x.reshape(3,3)\n",
    ">>> x\n",
    "array([[0, 1, 2],\n",
    "       [3, 4, 5],\n",
    "       [6, 7, 8]])\n",
    "```\n",
    "\n",
    "We will utilize one of NumPy's \"vectorized\" functions to square each entry in the array (without us needing to write a for-loop) \n",
    "```python\n",
    ">>> np.power(x, 2)  # can also be calculated using the shorthand: x**2\n",
    "array([[ 0,  1,  4],\n",
    "       [ 9, 16, 25],\n",
    "       [36, 49, 64]], dtype=int32)\n",
    "```\n",
    "\n",
    "Let's take the mean value along the three distinct rows of our data:\n",
    "```python\n",
    ">>> np.mean(x, axis=1)\n",
    "array([ 1.,  4.,  7.])\n",
    "```\n",
    "\n",
    "We can use broadcasting to raise each column of `x` to a different power:\n",
    "```python\n",
    ">>> x ** np.array([0., 1., 2.])\n",
    "array([[  1.,   1.,   4.],\n",
    "       [  1.,   4.,  25.],\n",
    "       [  1.,   7.,  64.]])\n",
    "```\n",
    "\n",
    "Basic indexing allows us to access multi-dimensional slices of `x`:\n",
    "```python\n",
    ">>> x[:2, :3]\n",
    "array([[0, 1, 2],\n",
    "       [3, 4, 5]])\n",
    "```\n",
    "\n",
    "Advanced indexing can be used to access all even-valued entries of `x`; let's update `x` so that all of its even-valued entries are multiplied by -1:\n",
    "\n",
    "```python\n",
    ">>> x[x % 2 == 0] *= -1\n",
    ">>> x\n",
    "array([[ 0,  1, -2],\n",
    "       [ 3, -4,  5],\n",
    "       [-6,  7, -8]])\n",
    "```\n",
    "\n",
    "By the end of this module, these code snippets should make good sense, and NumPy's tremendous utility should be clear."
   ]
  },
  {
   "cell_type": "markdown",
   "metadata": {},
   "source": [
    "## Links to Official Documentation\n",
    "\n",
    "- [The N-dimensional array](https://docs.scipy.org/doc/numpy/reference/arrays.ndarray.html)\n",
    "- [NumPy Basics](https://docs.scipy.org/doc/numpy/user/basics.html#numpy-basics)\n",
    "- [NumPy reference](https://docs.scipy.org/doc/numpy/reference/index.html)"
   ]
  }
 ],
 "metadata": {
  "jupytext": {
   "text_representation": {
    "extension": ".md",
    "format_name": "markdown",
    "format_version": "1.2",
    "jupytext_version": "1.3.0rc1"
   }
  },
  "kernelspec": {
   "display_name": "Python 3",
   "language": "python",
   "name": "python3"
  }
 },
 "nbformat": 4,
 "nbformat_minor": 4
}
