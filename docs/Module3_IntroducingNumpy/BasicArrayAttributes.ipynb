{
 "cells": [
  {
   "cell_type": "raw",
   "metadata": {
    "raw_mimetype": "text/restructuredtext"
   },
   "source": [
    ".. meta::\n",
    "   :description: Topic: Numpy array attributes, Difficulty: Easy, Category: Section\n",
    "   :keywords: ndim, shape, size, itemsize, dtype, examples"
   ]
  },
  {
   "cell_type": "markdown",
   "metadata": {},
   "source": [
    "# Basic Array Attributes\n",
    "Armed with our understanding of multidimensional NumPy arrays, we now look at methods for programmatically inspecting an array's attributes (e.g. its dimensionality). It is especially important to understand what an array's \"shape\" is.\n",
    "\n",
    "We will use the following array to provide context for our discussion:\n",
    " \n",
    "```python\n",
    ">>> import numpy as np\n",
    ">>> example_array = np.array([[[ 0,  1,  2,  3],\n",
    "...                            [ 4,  5,  6,  7]],\n",
    "...\n",
    "...                           [[ 8,  9, 10, 11],\n",
    "...                            [12, 13, 14, 15]],\n",
    "...\n",
    "...                           [[16, 17, 18, 19],\n",
    "...                            [20, 21, 22, 23]]])\n",
    "```\n",
    "According to the preceding discussion, it is a 3-dimensional array structured such that:\n",
    "\n",
    " - axis-0 discerns which of the  **3 sheets** to select from.\n",
    " - axis-1 discerns which of the **2 rows**, in any sheet, to select from.\n",
    " - axis-2 discerns which of the **4 columns**, in any sheet and row, to select from.\n",
    "\n",
    "**ndarray.ndim**: \n",
    "\n",
    "The number of axes (dimensions) of the array.\n",
    "\n",
    "```python\n",
    "# dimensionality of the array\n",
    ">>> example_array.ndim\n",
    "3\n",
    "```"
   ]
  },
  {
   "cell_type": "markdown",
   "metadata": {},
   "source": [
    "**ndarray.shape**:\n",
    "\n",
    "A tuple of integers indicating the number of elements that are stored along each dimension of the array. For a 2D-array with $N$ rows and $M$ columns, shape will be $(N, M)$. The length of this shape-tuple is therefore equal to the number of dimensions of the array.\n",
    "\n",
    "```python\n",
    "# shape of the array\n",
    ">>> example_array.shape\n",
    "(3, 2, 4)\n",
    "```\n",
    "\n",
    "**ndarray.size**:\n",
    "\n",
    "The total number of elements of the array. This is equal to the product of the elements of the array's shape.\n",
    "```python\n",
    "# size of the array: the number of elements it stores\n",
    ">>> example_array.size\n",
    "24\n",
    "```\n",
    "\n",
    "**ndarray.dtype**:\n",
    "\n",
    "An object describing the data type of the elements in the array. Recall that NumPy's ND-arrays are *homogeneous*: they can only posses numbers of a uniform data type. \n",
    "\n",
    "```python\n",
    "# `example_array` contains integers, each of which are stored using 32 bits of memory\n",
    ">>> example_array.dtype\n",
    "dtype('int32') \n",
    "```\n",
    "\n",
    "**ndarray.itemsize**:\n",
    "\n",
    "The size, in bytes (8 bits is 1 byte), of each element of the array. For example, an array of elements of type `float64` has itemsize 8 $(= \\frac{64}{8})$, while an array of type `complex32` has itemsize 4 $(= \\frac{32}{8})$.\n",
    "```python\n",
    "# each integer in `example_array` is represented using 4 bytes (32 bits) of memory\n",
    ">>> example_array.itemsize\n",
    "4\n",
    "```"
   ]
  },
  {
   "cell_type": "markdown",
   "metadata": {},
   "source": [
    "## Links to Official Documentation\n",
    "\n",
    "- [Array attributes](https://docs.scipy.org/doc/numpy/reference/arrays.ndarray.html#array-attributes)"
   ]
  }
 ],
 "metadata": {
  "jupytext": {
   "text_representation": {
    "extension": ".md",
    "format_name": "markdown",
    "format_version": "1.2",
    "jupytext_version": "1.3.0rc1"
   }
  },
  "kernelspec": {
   "display_name": "Python 3",
   "language": "python",
   "name": "python3"
  }
 },
 "nbformat": 4,
 "nbformat_minor": 4
}
