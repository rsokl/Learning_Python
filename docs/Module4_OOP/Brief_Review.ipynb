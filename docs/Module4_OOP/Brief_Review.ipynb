{
 "cells": [
  {
   "cell_type": "raw",
   "metadata": {
    "raw_mimetype": "text/restructuredtext"
   },
   "source": [
    ".. meta::\n",
    "   :description: Topic: Brief review of object oriented programming, Difficulty: Easy, Category: Tutorial\n",
    "   :keywords: class definition, simple, examples, overview, init, initialize, type, object"
   ]
  },
  {
   "cell_type": "markdown",
   "metadata": {},
   "source": [
    "## A Brief Summary of Terms and Concepts\n",
    "\n",
    "Let's do a quick rundown of some of the concepts and terms discussed thus far.  The following code is a *class definition*, which specifies the *attributes* of objects that belong to the class/type `Example`.\n",
    "\n",
    "```python\n",
    "class Example:\n",
    "    a = (1, 2, 3)\n",
    "    \n",
    "    def __init__(self):\n",
    "        self.b = \"apple\"\n",
    "```\n",
    "\n",
    "Once executed, this code produces the *class object* `Example`, which encapsulates the above definition and can be used to create objects that are instances of this class/type. `Example.a` and `Example.__init__` are both attributes of this class. `Example.__init__` is more specifically a special method, which is automatically invoked whenever an instance of this class is created. \n",
    "\n",
    "The following code creates an *instance* of `Example`, assigning that instance to the variable `ex`. This means that the object belongs to the type (a.k.a class) `Example`.\n",
    "\n",
    "```python\n",
    ">>> ex = Example()\n",
    "\n",
    ">>> Example.a\n",
    "(1, 2, 3)\n",
    "\n",
    ">>> ex.a\n",
    "(1, 2, 3)\n",
    "\n",
    ">>> isinstance(ex, Example)\n",
    "True\n",
    "\n",
    ">>> type(ex)\n",
    "__main__.Example\n",
    "```\n",
    "\n",
    "Upon this instantiation, the instance-level attribute `b` was defined via execution of the `__init__` method, wherein Python passed the instance object being created as the argument `self` to the method. Thus `b` is an *instance-level* attribute, which is not possessed by `Example` itself.\n",
    "\n",
    "```python\n",
    ">>> Example.b\n",
    "AttributeError: type object 'Example' has no attribute 'b'\n",
    "\n",
    ">>> ex.b\n",
    "'apple'\n",
    "```\n"
   ]
  }
 ],
 "metadata": {
  "jupytext": {
   "text_representation": {
    "extension": ".md",
    "format_name": "markdown",
    "format_version": "1.2",
    "jupytext_version": "1.3.0rc1"
   }
  },
  "kernelspec": {
   "display_name": "Python 3",
   "language": "python",
   "name": "python3"
  }
 },
 "nbformat": 4,
 "nbformat_minor": 4
}
