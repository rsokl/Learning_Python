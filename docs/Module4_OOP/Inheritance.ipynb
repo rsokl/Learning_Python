{
 "cells": [
  {
   "cell_type": "raw",
   "metadata": {
    "raw_mimetype": "text/restructuredtext"
   },
   "source": [
    ".. meta::\n",
    "   :description: Topic: Class inheritance, Difficulty: Easy, Category: Section\n",
    "   :keywords: inherit, object oriented, overwrite, sub class, issubclass"
   ]
  },
  {
   "cell_type": "markdown",
   "metadata": {},
   "source": [
    "# Inheritance\n",
    "A final topic for us to discuss in this introduction to object oriented programming is the concept of inheritance. Working with inheritance provides powerful abstractions and elegant code re-use - it permits a class to inherit and build off of the attributes of another class.\n",
    "\n",
    "Let's immediately consider an example of inheritance in action. Let's revisit the `Rectangle` class that we wrote in the introduction to this module.\n",
    "\n",
    "```python\n",
    "class Rectangle:\n",
    "    \"\"\" A class of Python object that describes the properties of a rectangle\"\"\"\n",
    "    def __init__(self, width, height, center=(0, 0)):\n",
    "        self.width = width    \n",
    "        self.height = height  \n",
    "        self.center = center\n",
    "\n",
    "    def __repr__(self):\n",
    "        return \"Rectangle(width={w}, height={h}, center={c})\".format(h=self.height,\n",
    "                                                                     w=self.width,\n",
    "                                                                     c=self.center)\n",
    "\n",
    "    def compute_area(self):\n",
    "        return self.width * self.height\n",
    "```\n",
    "\n",
    "Now suppose that we also want to write a `Square` class, such that only a single side length need be specified to determine its size. Recognize that a square is a special type of rectangle - one whose width and height are equal. In light of this, we ought to leverage the code that we already wrote for `Rectangle`. We can do this by defining a `Square` class that is a *subclass* of `Rectangle`. This means that `Square` will *inherit* all of the attributes of `Rectangle`, including its methods. Let's proceed with writing this subclass:\n",
    "\n",
    "```python\n",
    "# Creating Square, a subclass of Rectangle\n",
    "class Square(Rectangle):\n",
    "    def __init__(self, side, center=(0, 0)):\n",
    "        # equivalent to `Rectangle.__init__(self, side, side, center)`\n",
    "        super().__init__(side, side, center)\n",
    "```\n",
    "\n",
    "Specifying `class Square(Rectangle)` signals that `Square` is a subclass of `Rectangle` and thus it will have inherited the attributes of `Rectangle`. Next, see that we overwrote the `__init__` method that `Square` inherited; instead of accepting a height and a width, `Square` should by specified by a single side length. Within this new `__init__` method, we pass in that single side length as both the width and height to `Rectangle.__init__`. `super` always refers to the \"super class\" or \"parent class\" of a given class, thus `super` is `Rectangle` here.\n",
    "\n",
    "Having defined our subclass, we can leverage the other methods of `Rectangle` as-is. Let's see `Square` in action:\n",
    "\n",
    "```python\n",
    "# create a square of side-length 2\n",
    ">>> my_square = Square(2)\n",
    "\n",
    "# using the inherited `get_area` method\n",
    ">>> my_square.get_area()\n",
    "4\n",
    "\n",
    "# a square is a rectangle with equal height/width\n",
    ">>> my_square\n",
    "Rectangle(width=2, height=2, center=(0.0, 0.0))\n",
    "\n",
    ">>> my_square.width == my_square.height\n",
    "True\n",
    "```\n"
   ]
  },
  {
   "cell_type": "markdown",
   "metadata": {},
   "source": [
    "The built-in `issubclass` function allows us to verify the relationship between `Square` and `Rectangle`.\n",
    "\n",
    "```python\n",
    "# `Square` and `Rectangle` are distinct classes\n",
    ">>> Square is not Rectangle\n",
    "True\n",
    "\n",
    "# `Square` is a subclass of `Rectangle`\n",
    ">>> issubclass(Square, Rectangle)\n",
    "True\n",
    "\n",
    "# `my_square is an both an instance of `Square` and `Rectangle`\n",
    ">>> isinstance(my_square, Square)\n",
    "True\n",
    "\n",
    ">>> isinstance(my_square, Rectangle)\n",
    "True\n",
    "```"
   ]
  },
  {
   "cell_type": "markdown",
   "metadata": {},
   "source": [
    "## Summary of Inheritance"
   ]
  },
  {
   "cell_type": "markdown",
   "metadata": {},
   "source": [
    "In general, if you have a class `A`, then you can define a subclass of `A` via:\n",
    "\n",
    "```python\n",
    "\n",
    "class A:\n",
    "    attr = 0\n",
    "    \n",
    "    def method(self):\n",
    "        return 0\n",
    "    \n",
    "# `B` is a subclass of `A`\n",
    "class B(A):\n",
    "    # inherits `attr` and `method`\n",
    "    b_attr = -2  # class attribute distinct to `B`\n",
    "    \n",
    "    def method(self):\n",
    "        # overwrites inherited `method`\n",
    "        return -1\n",
    "```\n",
    "\n",
    "`B` will have inherited all of the attributes and methods of `A`. Defining attributes and methods within the definition of `B` will overwrite those that already exist in `A`. `B` is also free to have its own distinct attributes and methods be defined, irrespective of `A`.\n",
    "\n",
    "```python\n",
    ">>> issubclass(B, A)\n",
    "True\n",
    "\n",
    ">>> A.attr\n",
    "0\n",
    "\n",
    ">>> A().method()\n",
    "0\n",
    "\n",
    ">>> B.attr\n",
    "0\n",
    "\n",
    ">>> B().method()\n",
    "-1\n",
    "\n",
    ">>> B.b_attr\n",
    "-2\n",
    "```"
   ]
  },
  {
   "cell_type": "markdown",
   "metadata": {},
   "source": [
    "We have only scratched the surface of the topic of class inheritance. That being said, this section does convey the essential functionality and utility of class inheritance. "
   ]
  },
  {
   "cell_type": "markdown",
   "metadata": {},
   "source": [
    "## Links to Official Documentation\n",
    "\n",
    "- [Official Tutorial: Inheritance](https://docs.python.org/3/tutorial/classes.html#inheritance)"
   ]
  }
 ],
 "metadata": {
  "jupytext": {
   "text_representation": {
    "extension": ".md",
    "format_name": "markdown",
    "format_version": "1.2",
    "jupytext_version": "1.3.0rc1"
   }
  },
  "kernelspec": {
   "display_name": "Python 3",
   "language": "python",
   "name": "python3"
  }
 },
 "nbformat": 4,
 "nbformat_minor": 4
}
