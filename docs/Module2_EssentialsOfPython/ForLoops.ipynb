{
 "cells": [
  {
   "cell_type": "raw",
   "metadata": {
    "raw_mimetype": "text/restructuredtext"
   },
   "source": [
    ".. meta::\n",
    "   :description: Topic: Contorl flow with for-loops and while-loops, Difficulty: Easy, Category: Section\n",
    "   :keywords: for-loop, while-loop, break, control flow, basic programming"
   ]
  },
  {
   "cell_type": "markdown",
   "metadata": {},
   "source": [
    "# For-Loops and While-Loops\n",
    "In this section, we will introduce the essential \"for-loop\" control flow paradigm along with the formal definition of an \"iterable\". The utility of these items cannot be understated. Moving forward, you will likely find use for these concepts in nearly every piece of Python code that you write!"
   ]
  },
  {
   "cell_type": "markdown",
   "metadata": {},
   "source": [
    "<div class=\"alert alert-warning\">\n",
    "\n",
    "**Note**: \n",
    "\n",
    "There are reading-comprehension exercises included throughout the text. These are meant to help you put your reading to practice. Solutions for the exercises are included at the bottom of this page.\n",
    "</div>"
   ]
  },
  {
   "cell_type": "markdown",
   "metadata": {},
   "source": [
    "## For-Loops\n",
    "A \"for-loop\" allows you to iterate over a collection of items, and execute a block of code once for each iteration. For example, the following code will sum up all the positive numbers in a tuple:\n",
    "```python\n",
    "total = 0\n",
    "for num in (-22.0, 3.5, 8.1, -10, 0.5):\n",
    "    if num > 0:\n",
    "        total = total + num\n",
    "```\n",
    "The general syntax for a \"for-loop\" is:\n",
    "\n",
    "```\n",
    "for <var> in <iterable>:\n",
    "    block of code\n",
    "```\n",
    "\n",
    "Where `<var>` is any valid variable-identifier and `<iterable>` is any **iterable**. We will discuss iterables more formally in the next section; suffice it to know that every sequence-type object is an iterable. The `for`statement must end in a colon character, and the body the for-loop is [whitespace-delimited](https://www.pythonlikeyoumeanit.com/Module2_EssentialsOfPython/Introduction.html#Python-Uses-Whitespace-to-Delimit-Scope).\n",
    "\n",
    "The for-loop behaves as follows:\n",
    "\n",
    "- Request the next member of the iterable.\n",
    "- If the iterable is empty, exit the for-loop without running its body.\n",
    "- If the iterable did produce a member, assign that member to `<var>` (if `<var>` was not previously defined, it becomes defined). \n",
    "- Execute the enclosed body of code.\n",
    "- Go back to the first step.\n",
    "\n",
    "To be concrete, let's consider the example:\n",
    "```python\n",
    "# demonstrating a basic for-loop\n",
    "total = 0\n",
    "for item in [1, 3, 5]:\n",
    "    total = total + item\n",
    "\n",
    "print(total)  # `total` has the value 1 + 3 + 5 = 9\n",
    "# `item` is still defined here, and holds the value 5\n",
    "```\n",
    "\n",
    "This code will perform the following steps:\n",
    "\n",
    "1. Define the variable `total`, and assign it the value `0`\n",
    "2. Iterate on the list, producing value `1`, define the variable `item` and assign it the value `1`\n",
    "3. Assign `total` the value `0 + 1`\n",
    "4. Iterate on the list, producing the value `3` and assigning it to `item`\n",
    "5. Assign `total` the value `1 + 3`\n",
    "6. Iterate on the list, producing the value `5` and assigning it to `item`\n",
    "7. Assign `total` the value `4 + 5`\n",
    "8. Iterate on the list. Having reached its end, a `StopIteration` signal it raised by the list, and the for-loop sequence is exited.\n",
    "9. Print the value of `total` (9)\n",
    "\n",
    "#### Potential Pitfall\n",
    "Note that the variable `item` will persist after the for-loop block is exited. It will reference the last value from the for-loop iteration (in this case `item` has the value 5). That being said, *you should not write code that depends on the iterate-variable, outside of the context of the for-loop*. In the case that you try to loop over an *empty* iterable, the iterate-variable is never defined:\n",
    "\n",
    "```python\n",
    "for x in []:         # the iterable is empty - the iterate-variable `x` will not be defined\n",
    "    print(\"Hello?\")  # this code is never executed\n",
    "print(x)             # raises an error because `x` was never defined\n",
    "```\n",
    "\n",
    "Because we are attempting to iterate over an empty list, `StopIteration` is raised immediately - before the variable `x` is even defined. Thus the code enclosed within the for-loop is never reached, and the subsequent `print(x)` statement will raise a `NameError`, because `x` was never defined!"
   ]
  },
  {
   "cell_type": "markdown",
   "metadata": {},
   "source": [
    "<div class=\"alert alert-info\">\n",
    "\n",
    "**Reading Comprehension: A basic for-loop**\n",
    "\n",
    "Using a for-loop and an if-statement, print each letter in the string `\"abcdefghij\"`, if that letter is a vowel.\n",
    "\n",
    "</div>"
   ]
  },
  {
   "cell_type": "markdown",
   "metadata": {},
   "source": [
    "## While-Loops\n",
    "A \"while-loop\" allows you to repeat a block of code until a condition is no longer true:\n",
    "\n",
    "```\n",
    "while <condition>:\n",
    "    block of code\n",
    "```\n",
    "\n",
    "Where `<condition>` is an expression that returns `True` or `False`, or is any object on which `bool` can be called. The \"body\" of the while-loop is the code indented beneath the while-loop statement.\n",
    "\n",
    "The while-loop behaves as follows:\n",
    "\n",
    "- Call `bool(<condition>)` and execute the indented block of code if `True` is returned. Otherwise, \"exit\" the while-loop, skipping past the indented code.\n",
    "- If the indented block code is executed, go back to the first step.\n",
    "\n",
    "To be concrete, let's consider the example:\n",
    "```python\n",
    "# demonstrating a basic while-loop\n",
    "total = 0\n",
    "while total < 2:\n",
    "    total += 1  # equivalent to: `total = total + 1`\n",
    "\n",
    "print(total)  # `total` has the value 2\n",
    "```\n",
    "\n",
    "This code will perform the following steps:\n",
    "\n",
    "1. Define the variable `total`, and assign it the value `0`\n",
    "2. Evaluate `0 < 2`, which returns `True`: enter the enclosed code-block\n",
    "3. Execute the code block: assign `total` the value `0 + 1`\n",
    "4. Evaluate `1 < 2`, which returns `True`: enter the enclosed code-block\n",
    "5. Execute the code block: assign `total` the value `1 + 1`\n",
    "6. Evaluate `2 < 2`, which returns `False`: *skip* the enclosed code-block\n",
    "7. Print the value of `total` (2)\n",
    "\n",
    "Note that if we started off with `total = 3`, the condition-expression `3 < 2` would evaluate to `False` outright, and the indented body of code would never be reached.\n",
    "\n",
    "<div class=\"alert alert-warning\">\n",
    "\n",
    "**Warning!** \n",
    "\n",
    "It is possible to write a while-loop such that its conditional statement is always True, in which case your code will run ceaselessly! If this ever happens to you in a Jupyter notebook, either interrupt or restart your kernel.\n",
    "</div>"
   ]
  },
  {
   "cell_type": "markdown",
   "metadata": {},
   "source": [
    "<div class=\"alert alert-info\">\n",
    "\n",
    "**Reading Comprehension: A basic while-loop**\n",
    "\n",
    "Given a list of nonzero, positive numbers, `x`, append the sum of that list to the end of it. Do this until the last value in `x` is at least 100. Use a while-loop. \n",
    "\n",
    "If you start with `x = [1]`, then by the end of your while-loop `x` should be `[1, 1, 2, 4, 8, 16, 32, 64, 128]`.\n",
    "\n",
    "</div>"
   ]
  },
  {
   "cell_type": "markdown",
   "metadata": {},
   "source": [
    "## `break`, `continue`, & `else` clauses on loops\n",
    "The `continue` and `break` statements can be used within the bodies of both for-loops and while-loops. They provide added means for \"short-circuiting\" or prematurely exiting a given loop, respectively.\n",
    "\n",
    "Encountering `break` within a given loop causes that loop to be exited immediately:\n",
    "\n",
    "```ipython\n",
    "# breaking out of a loop early\n",
    ">>> for item in [1, 2, 3, 4, 5]:\n",
    "...     if item == 3:\n",
    "...         print(item, \" ...break!\")\n",
    "...         break\n",
    "...     print(item, \" ...next iteration\")\n",
    "```\n",
    "```\n",
    "1  ...next iteration\n",
    "2  ...next iteration\n",
    "3  ...break!\n",
    "```\n",
    "\n",
    "An `else` clause can be added to the end of any loop. The body of this else-statement will be executed *only if the loop was not exited via a `break` statement*.\n",
    "\n",
    "```ipython\n",
    "# including an else-clause at the end of the loop\n",
    ">>> for item in [2, 4, 6]:\n",
    "...     if item == 3:\n",
    "...         print(item, \" ...break!\")\n",
    "...         break\n",
    "...     print(item, \" ...next iteration\")\n",
    "... else:\n",
    "...     print(\"if you are reading this, then the loop completed without a 'break'\")\n",
    "```\n",
    "```\n",
    "2  ...next iteration\n",
    "4  ...next iteration\n",
    "6  ...next iteration\n",
    "if you are reading this, then the loop completed without a 'break'\n",
    "```\n",
    "\n",
    "The `continue` statement, when encountered within a loop, causes the loop-statement to be revisited immediately.\n",
    "```python\n",
    "# demonstrating a `continue` statement in a loop\n",
    ">>> x = 1\n",
    ">>> while x < 4:\n",
    "...     print(\"x = \", x, \">> enter loop-body <<\")\n",
    "...     if x == 2:\n",
    "...         print(\"x = \", x, \" continue...back to the top of the loop!\")\n",
    "...         x += 1\n",
    "...         continue\n",
    "...     x += 1\n",
    "...     print(\"--reached end of loop-body--\")\n",
    "```\n",
    "```\n",
    "x =  1 >> enter loop-body <<\n",
    "--reached end of loop-body--\n",
    "x =  2 >> enter loop-body <<\n",
    "x =  2  continue...back to the top of the loop!\n",
    "x =  3 >> enter loop-body <<\n",
    "--reached end of loop-body--\n",
    "```"
   ]
  },
  {
   "cell_type": "markdown",
   "metadata": {},
   "source": [
    "<div class=\"alert alert-info\">\n",
    "\n",
    "**Reading Comprehension: conducting flow in a loop**\n",
    "\n",
    "Loop over a list of integers repeatedly, summing up all of its even values, and adding the content to a total. Repeat this process until the the total exceeds 100, or if you have looped over the list more than 50 times. Print the total only if it exceeds 100.\n",
    "\n",
    "</div>"
   ]
  },
  {
   "cell_type": "markdown",
   "metadata": {},
   "source": [
    "## Links to Official Documentation\n",
    "\n",
    "- ['for' statement](https://docs.python.org/3/reference/compound_stmts.html#the-for-statement)\n",
    "- ['while' statement](https://docs.python.org/3/reference/compound_stmts.html#the-while-statement)\n",
    "- ['break', 'continue', and 'else' clauses](https://docs.python.org/3/tutorial/controlflow.html#break-and-continue-statements-and-else-clauses-on-loops)\n",
    "- ['pass' statment](https://docs.python.org/3/tutorial/controlflow.html#pass-statements)"
   ]
  },
  {
   "cell_type": "markdown",
   "metadata": {},
   "source": [
    "## Reading Comprehension Exercise Solutions:"
   ]
  },
  {
   "cell_type": "markdown",
   "metadata": {},
   "source": [
    "**A basic for-loop: Solution**\n",
    "```python\n",
    "for letter in \"abcdefghij\":\n",
    "    if letter in \"aeiou\":\n",
    "        print(letter)\n",
    "```\n"
   ]
  },
  {
   "cell_type": "markdown",
   "metadata": {},
   "source": [
    "**A basic while-loop: Solution**\n",
    "```python\n",
    "while x[-1] < 100:\n",
    "    x.append(sum(x))\n",
    "```"
   ]
  },
  {
   "cell_type": "markdown",
   "metadata": {},
   "source": [
    "**Conducting flow in a loop: Solution**\n",
    "\n",
    "```python\n",
    "x = [3, 4, 1, 2, 8, 10, -3, 0]\n",
    "num_loop = 0\n",
    "total = 0\n",
    "\n",
    "while total < 100:\n",
    "    for item in x:\n",
    "        # return to for-loop if \n",
    "        # `item` is odd-valued\n",
    "        if item % 2 == 1:\n",
    "            continue\n",
    "        else:\n",
    "            total += item\n",
    "    num_loop += 1\n",
    "    \n",
    "    # break from while-loop if \n",
    "    # more than 50 items tallied\n",
    "    if 50 < num_loop:\n",
    "        break\n",
    "else:\n",
    "    print(total)\n",
    "```\n"
   ]
  }
 ],
 "metadata": {
  "jupytext": {
   "text_representation": {
    "extension": ".md",
    "format_name": "markdown",
    "format_version": "1.2",
    "jupytext_version": "1.3.0rc1"
   }
  },
  "kernelspec": {
   "display_name": "Python 3",
   "language": "python",
   "name": "python3"
  }
 },
 "nbformat": 4,
 "nbformat_minor": 4
}
