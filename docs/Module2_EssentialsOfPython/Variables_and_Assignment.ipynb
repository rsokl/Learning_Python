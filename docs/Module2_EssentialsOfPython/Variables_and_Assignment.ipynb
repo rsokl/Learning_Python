{
 "cells": [
  {
   "cell_type": "raw",
   "metadata": {
    "raw_mimetype": "text/restructuredtext"
   },
   "source": [
    ".. meta::\n",
    "   :description: Topic: variable naming and assignment, Difficulty: Medium, Category: Section\n",
    "   :keywords: variable naming, valid names, mutable, immutable, reference, pointer"
   ]
  },
  {
   "cell_type": "markdown",
   "metadata": {},
   "source": [
    "# Variables & Assignment\n",
    "\n",
    "<div class=\"alert alert-warning\">\n",
    "\n",
    "**Note**: \n",
    "\n",
    "There are reading-comprehension exercises included throughout the text. These are meant to help you put your reading to practice. Solutions for the exercises are included at the bottom of this page.\n",
    "</div>"
   ]
  },
  {
   "cell_type": "markdown",
   "metadata": {},
   "source": [
    "Variables permit us to write code that is flexible and amendable to repurpose. Suppose we want to write code that logs a student's grade on an exam. The logic behind this process should not depend on whether we are logging Brian's score of 92% versus Ashley's score of 94%. As such, we can utilize variables, say `name` and `grade`, to serve as placeholders for this information. In this subsection, we will demonstrate how to define variables in Python.\n",
    "\n",
    "In Python, the `=` symbol represents the \"assignment\" operator. The variable goes to the left of `=`, and the object that is being assigned to the variable goes to the right:\n",
    "```python\n",
    "name = \"Brian\"  # the variable `name` is being assigned the string \"Brian\"\n",
    "grade = 92      # the variable `grade` is being assigned the integer 92\n",
    "```\n",
    "Attempting to reverse the assignment order (e.g. `92 = name`) will result in a syntax error.  When a variable is assigned an object (like a number or a string), it is common to say that the variable **is a reference to** that object. For example, the variable `name` references the string `\"Brian\"`. This means that, once a variable is assigned an object, it can be used elsewhere in your code as a reference to (or placeholder for) that object:\n",
    "```python\n",
    "# demonstrating the use of variables in code\n",
    "name = \"Brian\"\n",
    "grade = 92\n",
    "failing = False\n",
    "\n",
    "if grade < 60:\n",
    "    failing = True\n",
    "\n",
    "# writes: name | grade | passing-status\n",
    "# to the end of the file \"student_grades.txt\"\n",
    "with open(\"student_grades.txt\", mode=\"a\") as opened_file:\n",
    "    opened_file.write(\"{} | {} | {}\".format(name, grade, failing))\n",
    "```\n",
    "\n",
    "## Valid Names for Variables\n",
    "A variable name may consist of alphanumeric characters (`a-z`, `A-Z`, `0-9`) and the underscore symbol (`_`); a valid name cannot begin with a numerical value.\n",
    "\n",
    "- `var`: valid\n",
    "- `_var2`: valid\n",
    "- `ApplePie_Yum_Yum`: valid\n",
    "- `2cool`: **invalid** (begins with a numerical character)\n",
    "- `I.am.the.best`: **invalid** (contains `.`)\n",
    "\n",
    "They also cannot conflict with character sequences that are reserved by the Python language. As such, the following cannot be used as variable names:\n",
    "\n",
    "- `for`, `while`, `break`, `pass`, `continue`\n",
    "- `in`, `is`, `not`\n",
    "- `if`, `else`, `elif`\n",
    "- `def`, `class`, `return`, `yield`, `raises`\n",
    "- `import`, `from`, `as`, `with`\n",
    "- `try`, `except`, `finally`\n",
    "\n",
    "There are other unicode characters that are permitted as valid characters in a Python variable name, but it is not worthwhile to delve into those details here."
   ]
  },
  {
   "cell_type": "markdown",
   "metadata": {},
   "source": [
    "## Mutable and Immutable Objects\n",
    "The **mutability** of an object refers to its ability to have its state changed. A **mutable object** can have its state changed, whereas an **immutable object** cannot. For instance, a list is an example of a mutable object. Once formed, we are able to update the contents of a list - replacing, adding to, and removing its elements.\n",
    "\n",
    "```python\n",
    "# demonstrating the mutability of a list\n",
    ">>> x = [1, 2, 3]\n",
    ">>> x[0] = -4  # replace element-0 of `x` with -4\n",
    ">>> x\n",
    "[-4, 2, 3]\n",
    "```\n",
    "\n",
    "To spell out what is transpiring here, we:\n",
    "\n",
    "1. Create (initialize) a list with the state `[1, 2, 3]`.\n",
    "2. Assign this list to the variable `x`; `x` is now a reference to that list.\n",
    "3. Using our referencing variable, `x`, update element-0 of the list to store the integer `-4`. \n",
    "\n",
    "This does not create a new list object, rather it *mutates* our original list. This is why printing `x` in the console displays `[-4, 2, 3]` and not `[1, 2, 3]`.\n",
    "\n",
    "A tuple is an example of an immutable object. Once formed, there is no mechanism by which one can change of the state of a tuple; and any code that appears to be updating a tuple is in fact creating an entirely new tuple.\n",
    "\n",
    "```python\n",
    "# demonstrating to the immutability of a tuple\n",
    ">>> x = (1, 2, 3)\n",
    ">>> x[0] = -4  # attempt to replace element-0 of `x` with -4\n",
    "---------------------------------------------------------------------------\n",
    "TypeError                                 Traceback (most recent call last)\n",
    "<ipython-input-11-a858573fdc63> in <module>()\n",
    "      1 x = (1, 2, 3)\n",
    "----> 2 x[0] = -4  # attempt to replace element-0 of `x` with -4\n",
    "\n",
    "TypeError: 'tuple' object does not support item assignment\n",
    "```\n",
    "\n",
    "### Mutable & Immutable Types of Objects\n",
    "The following are some common immutable and mutable objects in Python. These will be important to have in mind as we start to work with dictionaries and sets. "
   ]
  },
  {
   "cell_type": "markdown",
   "metadata": {},
   "source": [
    "**Some immutable objects**\n",
    "\n",
    " - [numbers](https://www.pythonlikeyoumeanit.com/Module2_EssentialsOfPython/Basic_Objects.html#Number-Types) (integers, floating-point numbers, complex numbers)\n",
    " - [strings](https://www.pythonlikeyoumeanit.com/Module2_EssentialsOfPython/Basic_Objects.html#Strings)\n",
    " - [tuples](https://www.pythonlikeyoumeanit.com/Module2_EssentialsOfPython/SequenceTypes.html#Tuples) \n",
    " - [booleans](https://www.pythonlikeyoumeanit.com/Module2_EssentialsOfPython/Basic_Objects.html#The-Boolean-Type)\n",
    " - [\"frozen\"-sets](https://www.pythonlikeyoumeanit.com/Module2_EssentialsOfPython/DataStructures_III_Sets_and_More.html#The-%E2%80%9CSet%E2%80%9D-Data-Structure)\n",
    "\n",
    "**Some mutable objects**\n",
    "\n",
    " - [lists](https://www.pythonlikeyoumeanit.com/Module2_EssentialsOfPython/Basic_Objects.html#Lists)\n",
    " - [dictionaries](https://www.pythonlikeyoumeanit.com/Module2_EssentialsOfPython/DataStructures_II_Dictionaries.html)\n",
    " - [sets](https://www.pythonlikeyoumeanit.com/Module2_EssentialsOfPython/DataStructures_III_Sets_and_More.html#The-%E2%80%9CSet%E2%80%9D-Data-Structure)\n",
    " - [NumPy arrays](https://www.pythonlikeyoumeanit.com/module_3.html)"
   ]
  },
  {
   "cell_type": "markdown",
   "metadata": {},
   "source": [
    "## Referencing a Mutable Object with Multiple Variables\n",
    "It is possible to assign variables to other, existing variables. Doing so will cause the variables to reference the same object:\n",
    "```python\n",
    "# demonstrating the behavior of variables \n",
    "# referencing the same object\n",
    ">>> list1 = [1, 2, 3]  #  `list1` references [1, 2, 3]\n",
    ">>> list2 = list1      #  `list2` and `list1` now both reference [1, 2, 3]\n",
    "\n",
    ">>> print(list1)\n",
    "[1, 2, 3]\n",
    "\n",
    ">>> print(list2)\n",
    "[1, 2, 3]\n",
    "```\n",
    "\n",
    "What this entails is that these common variables will reference the *same instance* of the list. Meaning that if the list changes, all of the variables referencing that list will reflect this change:\n",
    "\n",
    "```python\n",
    ">>> list1.append(4)  # append 4 to the end of [1, 2, 3]\n",
    ">>> print(list1)\n",
    "[1, 2, 3, 4]\n",
    "```\n",
    "\n",
    "We can see that `list2` is still assigned to reference the *same, updated* list as `list1`:\n",
    "```python\n",
    ">>> print(list2)\n",
    "[1, 2, 3, 4]\n",
    "```\n",
    "In general, assigning a variable `b` to a variable `a` will cause the variables to reference the *same* object in the system's memory, and assigning `c` to `a` or `b` will simply have a third variable reference this same object. Then any change (a.k.a *mutation*)  of the object will be reflected in all of the variables that reference it (`a`, `b`, and `c`).\n",
    "\n",
    "Of course, assigning two variables to identical but *distinct* lists means that a change to one list will not affect the other:\n",
    "\n",
    "```python\n",
    ">>> list1 = [1, 2, 3]  #  `list1` references [1, 2, 3]\n",
    ">>> list2 = [1, 2, 3]  #  `list2` references a *separate* list, whose value is [1, 2, 3]\n",
    "\n",
    ">>> list1.append(4)  # append 4 to the end of [1, 2, 3]\n",
    ">>> print(list1)\n",
    "[1, 2, 3, 4]\n",
    "\n",
    ">>> print(list2)     # `list2` still references its own list\n",
    "[1, 2, 3]\n",
    "``` "
   ]
  },
  {
   "cell_type": "markdown",
   "metadata": {},
   "source": [
    "<div class=\"alert alert-info\">\n",
    "\n",
    "**Reading Comprehension: Does slicing a list produce a reference to that list?**\n",
    "\n",
    "Suppose `x` is assigned a list, and that `y` is assigned a \"slice\" of `x`. Do `x` and `y` reference the same list? That is, if you update part of the subsequence common to `x` and `y`, does that change show up in both of them? Write some simple code to investigate this. \n",
    "\n",
    "</div>"
   ]
  },
  {
   "cell_type": "markdown",
   "metadata": {},
   "source": [
    "<div class=\"alert alert-info\">\n",
    "\n",
    "**Reading Comprehension: Understanding References**\n",
    "\n",
    "Based on our discussion of mutable and immutable objects, predict what the value of `y` will be in the following circumstance:\n",
    "\n",
    "```python\n",
    ">>> x = 3\n",
    ">>> y = x\n",
    "\n",
    "# shorthand for: `x = x * 3`\n",
    ">>> x *= 3\n",
    ">>> x\n",
    "9\n",
    "\n",
    ">>> y\n",
    "???\n",
    "```\n",
    "\n",
    "</div>"
   ]
  },
  {
   "cell_type": "markdown",
   "metadata": {},
   "source": [
    "## Reading Comprehension Exercise Solutions:\n",
    "\n",
    "**Does slicing a list produce a reference to that list?: Solution**\n",
    "\n",
    "Based on the following behavior, we can conclude that slicing a list does **not** produce a reference to the original list. Rather, slicing a list produces a copy of the appropriate subsequence of the list:\n",
    "```python\n",
    ">>> x = [0, 1, 2, 3]\n",
    "\n",
    ">>> y = x[:2] \n",
    ">>> y      # does `y` reference the same list as `x`?\n",
    "[0, 1]\n",
    "\n",
    ">>> x[0] = -1  # update one of the entries of the list that `x` references\n",
    ">>> x\n",
    "[-1, 1, 2, 3]\n",
    "\n",
    ">>> y      # the list that `y` references was unaffected by the update\n",
    "[0, 1]\n",
    "```"
   ]
  },
  {
   "cell_type": "markdown",
   "metadata": {},
   "source": [
    "**Understanding References: Solutions**\n",
    "\n",
    "Integers are immutable, thus `x` must reference an entirely new object (`9`), and `y` still references `3`."
   ]
  }
 ],
 "metadata": {
  "jupytext": {
   "text_representation": {
    "extension": ".md",
    "format_name": "markdown",
    "format_version": "1.2",
    "jupytext_version": "1.3.0rc1"
   }
  },
  "kernelspec": {
   "display_name": "Python 3",
   "language": "python",
   "name": "python3"
  }
 },
 "nbformat": 4,
 "nbformat_minor": 4
}
